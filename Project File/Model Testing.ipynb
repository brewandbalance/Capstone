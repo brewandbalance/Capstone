{
 "cells": [
  {
   "cell_type": "code",
   "execution_count": 3,
   "id": "5acaa283",
   "metadata": {},
   "outputs": [],
   "source": [
    "import pandas as pd\n",
    "import matplotlib.pyplot as plt\n",
    "import numpy as np\n",
    "from sklearn.model_selection import train_test_split, GridSearchCV, RandomizedSearchCV\n",
    "from sklearn.ensemble import RandomForestRegressor\n",
    "from sklearn.metrics import mean_absolute_error, mean_squared_error, r2_score"
   ]
  },
  {
   "cell_type": "code",
   "execution_count": 4,
   "id": "835de654",
   "metadata": {},
   "outputs": [],
   "source": [
    "clean = pd.read_csv('clean_sales_8811.csv')"
   ]
  },
  {
   "cell_type": "code",
   "execution_count": 5,
   "id": "2ce0daeb",
   "metadata": {},
   "outputs": [
    {
     "data": {
      "text/html": [
       "<div>\n",
       "<style scoped>\n",
       "    .dataframe tbody tr th:only-of-type {\n",
       "        vertical-align: middle;\n",
       "    }\n",
       "\n",
       "    .dataframe tbody tr th {\n",
       "        vertical-align: top;\n",
       "    }\n",
       "\n",
       "    .dataframe thead th {\n",
       "        text-align: right;\n",
       "    }\n",
       "</style>\n",
       "<table border=\"1\" class=\"dataframe\">\n",
       "  <thead>\n",
       "    <tr style=\"text-align: right;\">\n",
       "      <th></th>\n",
       "      <th>year</th>\n",
       "      <th>no_of_cylinders</th>\n",
       "      <th>horsepower</th>\n",
       "      <th>body_condition</th>\n",
       "      <th>mechanical_condition</th>\n",
       "      <th>color_Beige</th>\n",
       "      <th>color_Black</th>\n",
       "      <th>color_Blue</th>\n",
       "      <th>color_Brown</th>\n",
       "      <th>color_Burgundy</th>\n",
       "      <th>...</th>\n",
       "      <th>body_type_Van</th>\n",
       "      <th>body_type_Wagon</th>\n",
       "      <th>transmission_type_Automatic Transmission</th>\n",
       "      <th>transmission_type_Manual Transmission</th>\n",
       "      <th>fuel_type_Diesel</th>\n",
       "      <th>fuel_type_Electric</th>\n",
       "      <th>fuel_type_Gasoline</th>\n",
       "      <th>fuel_type_Hybrid</th>\n",
       "      <th>miles</th>\n",
       "      <th>price_usd</th>\n",
       "    </tr>\n",
       "  </thead>\n",
       "  <tbody>\n",
       "    <tr>\n",
       "      <th>0</th>\n",
       "      <td>2013</td>\n",
       "      <td>6</td>\n",
       "      <td>-1</td>\n",
       "      <td>3</td>\n",
       "      <td>4</td>\n",
       "      <td>0</td>\n",
       "      <td>0</td>\n",
       "      <td>0</td>\n",
       "      <td>0</td>\n",
       "      <td>0</td>\n",
       "      <td>...</td>\n",
       "      <td>0</td>\n",
       "      <td>0</td>\n",
       "      <td>1</td>\n",
       "      <td>0</td>\n",
       "      <td>0</td>\n",
       "      <td>0</td>\n",
       "      <td>1</td>\n",
       "      <td>0</td>\n",
       "      <td>104011.29</td>\n",
       "      <td>7079.65</td>\n",
       "    </tr>\n",
       "    <tr>\n",
       "      <th>1</th>\n",
       "      <td>2018</td>\n",
       "      <td>8</td>\n",
       "      <td>4</td>\n",
       "      <td>3</td>\n",
       "      <td>4</td>\n",
       "      <td>0</td>\n",
       "      <td>0</td>\n",
       "      <td>0</td>\n",
       "      <td>0</td>\n",
       "      <td>0</td>\n",
       "      <td>...</td>\n",
       "      <td>0</td>\n",
       "      <td>0</td>\n",
       "      <td>1</td>\n",
       "      <td>0</td>\n",
       "      <td>0</td>\n",
       "      <td>0</td>\n",
       "      <td>1</td>\n",
       "      <td>0</td>\n",
       "      <td>24233.47</td>\n",
       "      <td>29952.35</td>\n",
       "    </tr>\n",
       "    <tr>\n",
       "      <th>2</th>\n",
       "      <td>2014</td>\n",
       "      <td>6</td>\n",
       "      <td>4</td>\n",
       "      <td>3</td>\n",
       "      <td>4</td>\n",
       "      <td>0</td>\n",
       "      <td>0</td>\n",
       "      <td>1</td>\n",
       "      <td>0</td>\n",
       "      <td>0</td>\n",
       "      <td>...</td>\n",
       "      <td>0</td>\n",
       "      <td>0</td>\n",
       "      <td>1</td>\n",
       "      <td>0</td>\n",
       "      <td>0</td>\n",
       "      <td>0</td>\n",
       "      <td>1</td>\n",
       "      <td>0</td>\n",
       "      <td>124274.20</td>\n",
       "      <td>21238.94</td>\n",
       "    </tr>\n",
       "    <tr>\n",
       "      <th>3</th>\n",
       "      <td>2018</td>\n",
       "      <td>8</td>\n",
       "      <td>6</td>\n",
       "      <td>3</td>\n",
       "      <td>4</td>\n",
       "      <td>0</td>\n",
       "      <td>0</td>\n",
       "      <td>0</td>\n",
       "      <td>0</td>\n",
       "      <td>0</td>\n",
       "      <td>...</td>\n",
       "      <td>0</td>\n",
       "      <td>0</td>\n",
       "      <td>1</td>\n",
       "      <td>0</td>\n",
       "      <td>0</td>\n",
       "      <td>0</td>\n",
       "      <td>1</td>\n",
       "      <td>0</td>\n",
       "      <td>16777.02</td>\n",
       "      <td>244792.38</td>\n",
       "    </tr>\n",
       "    <tr>\n",
       "      <th>4</th>\n",
       "      <td>2020</td>\n",
       "      <td>4</td>\n",
       "      <td>0</td>\n",
       "      <td>3</td>\n",
       "      <td>4</td>\n",
       "      <td>0</td>\n",
       "      <td>0</td>\n",
       "      <td>0</td>\n",
       "      <td>0</td>\n",
       "      <td>0</td>\n",
       "      <td>...</td>\n",
       "      <td>0</td>\n",
       "      <td>1</td>\n",
       "      <td>0</td>\n",
       "      <td>1</td>\n",
       "      <td>0</td>\n",
       "      <td>0</td>\n",
       "      <td>1</td>\n",
       "      <td>0</td>\n",
       "      <td>42874.60</td>\n",
       "      <td>8985.70</td>\n",
       "    </tr>\n",
       "  </tbody>\n",
       "</table>\n",
       "<p>5 rows × 43 columns</p>\n",
       "</div>"
      ],
      "text/plain": [
       "   year  no_of_cylinders  horsepower  body_condition  mechanical_condition  \\\n",
       "0  2013                6          -1               3                     4   \n",
       "1  2018                8           4               3                     4   \n",
       "2  2014                6           4               3                     4   \n",
       "3  2018                8           6               3                     4   \n",
       "4  2020                4           0               3                     4   \n",
       "\n",
       "   color_Beige  color_Black  color_Blue  color_Brown  color_Burgundy  ...  \\\n",
       "0            0            0           0            0               0  ...   \n",
       "1            0            0           0            0               0  ...   \n",
       "2            0            0           1            0               0  ...   \n",
       "3            0            0           0            0               0  ...   \n",
       "4            0            0           0            0               0  ...   \n",
       "\n",
       "   body_type_Van  body_type_Wagon  transmission_type_Automatic Transmission  \\\n",
       "0              0                0                                         1   \n",
       "1              0                0                                         1   \n",
       "2              0                0                                         1   \n",
       "3              0                0                                         1   \n",
       "4              0                1                                         0   \n",
       "\n",
       "   transmission_type_Manual Transmission  fuel_type_Diesel  \\\n",
       "0                                      0                 0   \n",
       "1                                      0                 0   \n",
       "2                                      0                 0   \n",
       "3                                      0                 0   \n",
       "4                                      1                 0   \n",
       "\n",
       "   fuel_type_Electric  fuel_type_Gasoline  fuel_type_Hybrid      miles  \\\n",
       "0                   0                   1                 0  104011.29   \n",
       "1                   0                   1                 0   24233.47   \n",
       "2                   0                   1                 0  124274.20   \n",
       "3                   0                   1                 0   16777.02   \n",
       "4                   0                   1                 0   42874.60   \n",
       "\n",
       "   price_usd  \n",
       "0    7079.65  \n",
       "1   29952.35  \n",
       "2   21238.94  \n",
       "3  244792.38  \n",
       "4    8985.70  \n",
       "\n",
       "[5 rows x 43 columns]"
      ]
     },
     "execution_count": 5,
     "metadata": {},
     "output_type": "execute_result"
    }
   ],
   "source": [
    "clean.head()"
   ]
  },
  {
   "cell_type": "code",
   "execution_count": 6,
   "id": "f1646e01",
   "metadata": {},
   "outputs": [
    {
     "data": {
      "text/plain": [
       "(8811, 43)"
      ]
     },
     "execution_count": 6,
     "metadata": {},
     "output_type": "execute_result"
    }
   ],
   "source": [
    "clean.shape"
   ]
  },
  {
   "cell_type": "code",
   "execution_count": 7,
   "id": "d1a1e9c2",
   "metadata": {},
   "outputs": [],
   "source": [
    "def train(df, model):\n",
    "    X = df.drop(columns='price_usd')\n",
    "    y = df[f'price_usd']\n",
    "    \n",
    "    X_train, X_test, y_train, y_test = train_test_split(X, y, test_size=.20, random_state=42, shuffle=True)\n",
    "    \n",
    "    model.fit(X_train, y_train)\n",
    "    \n",
    "    return model, X_test, y_test"
   ]
  },
  {
   "cell_type": "code",
   "execution_count": 8,
   "id": "63e66c80",
   "metadata": {},
   "outputs": [],
   "source": [
    "def metrics(df, model):\n",
    "    \n",
    "    model, X_test, y_test = train(df, model)\n",
    "    pred = model.predict(X_test)\n",
    "    \n",
    "    \n",
    "    mean = df['price_usd'].mean().round(2)\n",
    "    mae_goal = (mean * .05).round(2)\n",
    "    mae = mean_absolute_error(y_test, pred).round(2)\n",
    "    mae_diff = (mae - mae_goal).round(2)\n",
    "    mape =  ((mae / mean) * 100).round(2)\n",
    "    mean_abs_diff = np.mean(np.abs(np.diff(y_test)))\n",
    "    mase = (mae / mean_abs_diff).round(2)\n",
    "    mse = mean_squared_error(y_test, pred).round(2)\n",
    "    rmse = np.sqrt(mse).round(2)\n",
    "    r2 = r2_score(y_test, pred).round(2)\n",
    "\n",
    "    print(f\"\"\"\n",
    "Data Set Mean: {mean}\\n\n",
    "MAE Goal: {mae_goal}  MAE: {mae}  Difference: {mae_diff}\\n\n",
    "MAPE: {mape}%  MASE: {mase}\\n\n",
    "MSE: {mse}  RMSE: {rmse}\\n\n",
    "R2: {r2}\n",
    "\"\"\")"
   ]
  },
  {
   "cell_type": "code",
   "execution_count": 9,
   "id": "9a8305f8",
   "metadata": {},
   "outputs": [
    {
     "name": "stdout",
     "output_type": "stream",
     "text": [
      "\n",
      "Data Set Mean: 46380.58\n",
      "\n",
      "MAE Goal: 2319.03  MAE: 17272.82  Difference: 14953.79\n",
      "\n",
      "MAPE: 37.24%  MASE: 0.34\n",
      "\n",
      "MSE: 828601558.0  RMSE: 28785.44\n",
      "\n",
      "R2: 0.76\n",
      "\n"
     ]
    }
   ],
   "source": [
    "model = RandomForestRegressor(n_estimators=100, max_depth=5, random_state=42)\n",
    "\n",
    "metrics(clean, model)"
   ]
  },
  {
   "cell_type": "code",
   "execution_count": 10,
   "id": "45c15fef",
   "metadata": {},
   "outputs": [],
   "source": [
    "n_est = [int(x) for x in np.linspace(start = 100, stop = 1000, num = 10)]\n",
    "max_feat = [1.0, 'sqrt']\n",
    "max_depth = [int(x) for x in np.linspace(5, 50, num = 11)]\n",
    "max_depth.append(None)\n",
    "min_samp_split = [2, 5, 10, 20]\n",
    "min_samp_leaf = [1, 2, 4, 8]\n",
    "bootstrap = [True, False]\n",
    "\n",
    "r_grid = {\n",
    "    'n_estimators': n_est,\n",
    "    'max_features': max_feat,\n",
    "    'max_depth': max_depth,\n",
    "    'min_samples_split': min_samp_split,\n",
    "    'min_samples_leaf': min_samp_leaf,\n",
    "    'bootstrap': bootstrap\n",
    "}"
   ]
  },
  {
   "cell_type": "code",
   "execution_count": 11,
   "id": "c1a15091",
   "metadata": {},
   "outputs": [
    {
     "name": "stdout",
     "output_type": "stream",
     "text": [
      "Fitting 3 folds for each of 100 candidates, totalling 300 fits\n"
     ]
    },
    {
     "data": {
      "text/plain": [
       "{'n_estimators': 900,\n",
       " 'min_samples_split': 2,\n",
       " 'min_samples_leaf': 1,\n",
       " 'max_features': 'sqrt',\n",
       " 'max_depth': 18,\n",
       " 'bootstrap': True}"
      ]
     },
     "execution_count": 11,
     "metadata": {},
     "output_type": "execute_result"
    }
   ],
   "source": [
    "model_random = RandomizedSearchCV(\n",
    "    estimator = model, param_distributions = r_grid, n_iter = 100, cv = 3, verbose = 2, random_state = 42, n_jobs = -1)\n",
    "\n",
    "model_random, X_test, y_test = train(clean, model_random)\n",
    "\n",
    "model_random.best_params_"
   ]
  },
  {
   "cell_type": "code",
   "execution_count": 13,
   "id": "7a77bf5d",
   "metadata": {},
   "outputs": [
    {
     "name": "stdout",
     "output_type": "stream",
     "text": [
      "\n",
      "Data Set Mean: 46380.58\n",
      "\n",
      "MAE Goal: 2319.03  MAE: 14764.14  Difference: 12445.11\n",
      "\n",
      "MAPE: 31.83%  MASE: 0.29\n",
      "\n",
      "MSE: 660506554.15  RMSE: 25700.32\n",
      "\n",
      "R2: 0.81\n",
      "\n"
     ]
    }
   ],
   "source": [
    "best_random = model_random.best_estimator_\n",
    "\n",
    "metrics(clean, best_random)"
   ]
  },
  {
   "cell_type": "code",
   "execution_count": 14,
   "id": "1cd2d68f",
   "metadata": {},
   "outputs": [
    {
     "name": "stdout",
     "output_type": "stream",
     "text": [
      "Fitting 3 folds for each of 243 candidates, totalling 729 fits\n"
     ]
    },
    {
     "data": {
      "text/plain": [
       "{'bootstrap': True,\n",
       " 'max_depth': 18,\n",
       " 'max_features': 'sqrt',\n",
       " 'min_samples_leaf': 1,\n",
       " 'min_samples_split': 2,\n",
       " 'n_estimators': 800}"
      ]
     },
     "execution_count": 14,
     "metadata": {},
     "output_type": "execute_result"
    }
   ],
   "source": [
    "p_grid = {\n",
    "    'n_estimators': [800, 850, 900],\n",
    "    'max_features': ['sqrt', 2, 3],\n",
    "    'max_depth': [18, 19, 20],\n",
    "    'min_samples_split': [2, 3, 4],\n",
    "    'min_samples_leaf': [1, 2, 3],\n",
    "    'bootstrap': [True]\n",
    "}\n",
    "\n",
    "model_grid = GridSearchCV(estimator = model, param_grid = p_grid, cv = 3, n_jobs = -1, verbose = 2)\n",
    "\n",
    "model_grid, X_test, y_test = train(clean, model_grid)\n",
    "\n",
    "model_grid.best_params_"
   ]
  },
  {
   "cell_type": "code",
   "execution_count": 15,
   "id": "afe6fc6b",
   "metadata": {},
   "outputs": [
    {
     "name": "stdout",
     "output_type": "stream",
     "text": [
      "\n",
      "Data Set Mean: 46380.58\n",
      "\n",
      "MAE Goal: 2319.03  MAE: 14764.7  Difference: 12445.67\n",
      "\n",
      "MAPE: 31.83%  MASE: 0.29\n",
      "\n",
      "MSE: 660856506.11  RMSE: 25707.13\n",
      "\n",
      "R2: 0.81\n",
      "\n"
     ]
    }
   ],
   "source": [
    "best_grid = model_grid.best_estimator_\n",
    "\n",
    "metrics(clean, best_grid)"
   ]
  },
  {
   "cell_type": "code",
   "execution_count": 16,
   "id": "d7925a6e",
   "metadata": {},
   "outputs": [
    {
     "data": {
      "text/plain": [
       "<Axes: >"
      ]
     },
     "execution_count": 16,
     "metadata": {},
     "output_type": "execute_result"
    },
    {
     "data": {
      "image/png": "[encoded data removed]",
      "text/plain": [
       "<Figure size 640x480 with 1 Axes>"
      ]
     },
     "metadata": {},
     "output_type": "display_data"
    }
   ],
   "source": [
    "feat_importance = pd.Series(best_grid.feature_importances_, index=X_test.columns)\n",
    "feat_importance.nlargest(20).plot(kind='barh')"
   ]
  },
  {
   "cell_type": "markdown",
   "id": "7fcc02b6",
   "metadata": {},
   "source": [
    "Even with a more exhaustive search, we land in the same ballpark as our random hyperparameter search.  We have an error rate of around **31.83%** of the data set's average vehicle price. My thought is our price ranges are still way too far apart to get a precise prediction. I am going to reduce the data set to include only values within the IQR."
   ]
  },
  {
   "cell_type": "code",
   "execution_count": 17,
   "id": "9302026e",
   "metadata": {},
   "outputs": [
    {
     "data": {
      "text/plain": [
       "(13070.12, 50646.7)"
      ]
     },
     "execution_count": 17,
     "metadata": {},
     "output_type": "execute_result"
    }
   ],
   "source": [
    "high = clean['price_usd'].quantile(.75)\n",
    "low = clean['price_usd'].quantile(.25)\n",
    "spread = (low, high)\n",
    "spread"
   ]
  },
  {
   "cell_type": "code",
   "execution_count": 18,
   "id": "21cc348a",
   "metadata": {},
   "outputs": [
    {
     "data": {
      "text/plain": [
       "(4361, 43)"
      ]
     },
     "execution_count": 18,
     "metadata": {},
     "output_type": "execute_result"
    }
   ],
   "source": [
    "clean75 = clean[(clean['price_usd'] > low) & (clean['price_usd'] < high)]\n",
    "clean75.shape"
   ]
  },
  {
   "cell_type": "code",
   "execution_count": 19,
   "id": "99d0ea54",
   "metadata": {},
   "outputs": [
    {
     "name": "stdout",
     "output_type": "stream",
     "text": [
      "\n",
      "Data Set Mean: 27120.12\n",
      "\n",
      "MAE Goal: 1356.01  MAE: 6633.11  Difference: 5277.1\n",
      "\n",
      "MAPE: 24.46%  MASE: 0.56\n",
      "\n",
      "MSE: 69331590.33  RMSE: 8326.56\n",
      "\n",
      "R2: 0.36\n",
      "\n"
     ]
    }
   ],
   "source": [
    "model75 = RandomForestRegressor(n_estimators=100, max_depth=5, random_state=42)\n",
    "\n",
    "metrics(clean75, model75)"
   ]
  },
  {
   "cell_type": "code",
   "execution_count": 20,
   "id": "65e69687",
   "metadata": {},
   "outputs": [
    {
     "name": "stdout",
     "output_type": "stream",
     "text": [
      "Fitting 3 folds for each of 100 candidates, totalling 300 fits\n"
     ]
    },
    {
     "data": {
      "text/plain": [
       "{'n_estimators': 700,\n",
       " 'min_samples_split': 10,\n",
       " 'min_samples_leaf': 1,\n",
       " 'max_features': 'sqrt',\n",
       " 'max_depth': None,\n",
       " 'bootstrap': False}"
      ]
     },
     "execution_count": 20,
     "metadata": {},
     "output_type": "execute_result"
    }
   ],
   "source": [
    "model_random75 = RandomizedSearchCV(\n",
    "    estimator = model, param_distributions = r_grid, n_iter = 100, cv = 3, verbose = 2, random_state = 42, n_jobs = -1)\n",
    "\n",
    "model_random75, X_test, y_test = train(clean75, model_random75)\n",
    "\n",
    "model_random75.best_params_"
   ]
  },
  {
   "cell_type": "code",
   "execution_count": 21,
   "id": "53759ab3",
   "metadata": {},
   "outputs": [
    {
     "name": "stdout",
     "output_type": "stream",
     "text": [
      "\n",
      "Data Set Mean: 27120.12\n",
      "\n",
      "MAE Goal: 1356.01  MAE: 6358.13  Difference: 5002.12\n",
      "\n",
      "MAPE: 23.44%  MASE: 0.53\n",
      "\n",
      "MSE: 66678381.06  RMSE: 8165.68\n",
      "\n",
      "R2: 0.39\n",
      "\n"
     ]
    }
   ],
   "source": [
    "best_random75 = model_random75.best_estimator_\n",
    "\n",
    "metrics(clean75, best_random75)"
   ]
  },
  {
   "cell_type": "code",
   "execution_count": 22,
   "id": "776cf5b7",
   "metadata": {},
   "outputs": [
    {
     "name": "stdout",
     "output_type": "stream",
     "text": [
      "Fitting 3 folds for each of 243 candidates, totalling 729 fits\n"
     ]
    },
    {
     "data": {
      "text/plain": [
       "{'bootstrap': True,\n",
       " 'max_depth': 18,\n",
       " 'max_features': 'sqrt',\n",
       " 'min_samples_leaf': 1,\n",
       " 'min_samples_split': 4,\n",
       " 'n_estimators': 900}"
      ]
     },
     "execution_count": 22,
     "metadata": {},
     "output_type": "execute_result"
    }
   ],
   "source": [
    "p_grid = {\n",
    "    'n_estimators': [800, 850, 900],\n",
    "    'max_features': ['sqrt', 2, 3],\n",
    "    'max_depth': [18, 19, 20],\n",
    "    'min_samples_split': [2, 3, 4],\n",
    "    'min_samples_leaf': [1, 2, 3],\n",
    "    'bootstrap': [True]\n",
    "}\n",
    "\n",
    "model_grid75 = GridSearchCV(estimator = model, param_grid = p_grid, cv = 3, n_jobs = -1, verbose = 2)\n",
    "\n",
    "model_grid75, X_test, y_test = train(clean75, model_grid75)\n",
    "\n",
    "model_grid75.best_params_"
   ]
  },
  {
   "cell_type": "code",
   "execution_count": 23,
   "id": "5648a1e4",
   "metadata": {},
   "outputs": [
    {
     "name": "stdout",
     "output_type": "stream",
     "text": [
      "\n",
      "Data Set Mean: 27120.12\n",
      "\n",
      "MAE Goal: 1356.01  MAE: 6334.14  Difference: 4978.13\n",
      "\n",
      "MAPE: 23.36%  MASE: 0.53\n",
      "\n",
      "MSE: 64951779.93  RMSE: 8059.27\n",
      "\n",
      "R2: 0.4\n",
      "\n"
     ]
    }
   ],
   "source": [
    "best_grid75 = model_grid.best_estimator_\n",
    "\n",
    "metrics(clean75, best_grid75)"
   ]
  },
  {
   "cell_type": "code",
   "execution_count": 24,
   "id": "97a698d6",
   "metadata": {},
   "outputs": [
    {
     "data": {
      "text/plain": [
       "<Axes: >"
      ]
     },
     "execution_count": 24,
     "metadata": {},
     "output_type": "execute_result"
    },
    {
     "data": {
      "image/png": "[encoded data removed]",
      "text/plain": [
       "<Figure size 640x480 with 1 Axes>"
      ]
     },
     "metadata": {},
     "output_type": "display_data"
    }
   ],
   "source": [
    "feat_importance75 = pd.Series(best_grid75.feature_importances_, index=X_test.columns)\n",
    "feat_importance75.nlargest(20).plot(kind='barh')"
   ]
  },
  {
   "cell_type": "markdown",
   "id": "320d7fae",
   "metadata": {},
   "source": [
    "Even after reducing the data set by nearly 50%, our metrics only slightly improved.  Instead of having a MAE value that is 31.64% of the data set's mean, we have a MAE value that is 24.32% of the mean.  In practical terms, losing more than 7000 on a sale of a "
   ]
  },
  {
   "cell_type": "code",
   "execution_count": 26,
   "id": "8cdcf533",
   "metadata": {},
   "outputs": [
    {
     "data": {
      "text/plain": [
       "(['price_usd',\n",
       "  'miles',\n",
       "  'horsepower',\n",
       "  'year',\n",
       "  'no_of_cylinders',\n",
       "  'body_type_Sedan',\n",
       "  'body_type_Coupe',\n",
       "  'body_type_SUV',\n",
       "  'color_Black',\n",
       "  'color_White',\n",
       "  'body_type_Pick Up Truck'],\n",
       " ['price_usd',\n",
       "  'miles',\n",
       "  'year',\n",
       "  'horsepower',\n",
       "  'no_of_cylinders',\n",
       "  'body_type_SUV',\n",
       "  'color_Black',\n",
       "  'body_type_Sedan',\n",
       "  'color_White',\n",
       "  'body_type_Coupe',\n",
       "  'color_Grey'])"
      ]
     },
     "execution_count": 26,
     "metadata": {},
     "output_type": "execute_result"
    }
   ],
   "source": [
    "reduced_columns = ['price_usd']\n",
    "reduced_columns75 = ['price_usd']\n",
    "\n",
    "for x in feat_importance.nlargest(10).index:\n",
    "    reduced_columns.append(x)\n",
    "\n",
    "for x in feat_importance75.nlargest(10).index:\n",
    "    reduced_columns75.append(x)\n",
    "\n",
    "reduced_columns, reduced_columns75"
   ]
  },
  {
   "cell_type": "code",
   "execution_count": 27,
   "id": "11635b69",
   "metadata": {},
   "outputs": [],
   "source": [
    "clean_reduced = clean[reduced_columns]\n",
    "clean_reduced75 = clean75[reduced_columns75]"
   ]
  },
  {
   "cell_type": "code",
   "execution_count": 28,
   "id": "7fddedd5",
   "metadata": {},
   "outputs": [
    {
     "name": "stdout",
     "output_type": "stream",
     "text": [
      "\n",
      "Data Set Mean: 46380.58\n",
      "\n",
      "MAE Goal: 2319.03  MAE: 14645.48  Difference: 12326.45\n",
      "\n",
      "MAPE: 31.58%  MASE: 0.29\n",
      "\n",
      "MSE: 656747850.61  RMSE: 25627.09\n",
      "\n",
      "R2: 0.81\n",
      "\n"
     ]
    }
   ],
   "source": [
    "metrics(clean_reduced, best_grid)"
   ]
  },
  {
   "cell_type": "code",
   "execution_count": 29,
   "id": "75a3e7ce",
   "metadata": {},
   "outputs": [
    {
     "name": "stdout",
     "output_type": "stream",
     "text": [
      "\n",
      "Data Set Mean: 27120.12\n",
      "\n",
      "MAE Goal: 1356.01  MAE: 6474.08  Difference: 5118.07\n",
      "\n",
      "MAPE: 23.87%  MASE: 0.54\n",
      "\n",
      "MSE: 71067303.27  RMSE: 8430.14\n",
      "\n",
      "R2: 0.35\n",
      "\n"
     ]
    }
   ],
   "source": [
    "metrics(clean_reduced75, best_grid75)"
   ]
  }
 ],
 "metadata": {
  "kernelspec": {
   "display_name": "Python 3 (ipykernel)",
   "language": "python",
   "name": "python3"
  },
  "language_info": {
   "codemirror_mode": {
    "name": "ipython",
    "version": 3
   },
   "file_extension": ".py",
   "mimetype": "text/x-python",
   "name": "python",
   "nbconvert_exporter": "python",
   "pygments_lexer": "ipython3",
   "version": "3.11.4"
  }
 },
 "nbformat": 4,
 "nbformat_minor": 5
}
