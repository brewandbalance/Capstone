{
 "cells": [
  {
   "cell_type": "code",
   "execution_count": 1,
   "id": "6eb8dc7e",
   "metadata": {},
   "outputs": [],
   "source": [
    "import pandas as pd\n",
    "import numpy as np\n",
    "from scipy.stats import zscore"
   ]
  },
  {
   "cell_type": "code",
   "execution_count": 2,
   "id": "61cf0ab8",
   "metadata": {},
   "outputs": [
    {
     "data": {
      "text/html": [
       "<div>\n",
       "<style scoped>\n",
       "    .dataframe tbody tr th:only-of-type {\n",
       "        vertical-align: middle;\n",
       "    }\n",
       "\n",
       "    .dataframe tbody tr th {\n",
       "        vertical-align: top;\n",
       "    }\n",
       "\n",
       "    .dataframe thead th {\n",
       "        text-align: right;\n",
       "    }\n",
       "</style>\n",
       "<table border=\"1\" class=\"dataframe\">\n",
       "  <thead>\n",
       "    <tr style=\"text-align: right;\">\n",
       "      <th></th>\n",
       "      <th>title</th>\n",
       "      <th>price_in_aed</th>\n",
       "      <th>kilometers</th>\n",
       "      <th>body_condition</th>\n",
       "      <th>mechanical_condition</th>\n",
       "      <th>seller_type</th>\n",
       "      <th>body_type</th>\n",
       "      <th>no_of_cylinders</th>\n",
       "      <th>transmission_type</th>\n",
       "      <th>regional_specs</th>\n",
       "      <th>horsepower</th>\n",
       "      <th>fuel_type</th>\n",
       "      <th>steering_side</th>\n",
       "      <th>year</th>\n",
       "      <th>color</th>\n",
       "      <th>emirate</th>\n",
       "      <th>motors_trim</th>\n",
       "      <th>company</th>\n",
       "      <th>model</th>\n",
       "      <th>date_posted</th>\n",
       "    </tr>\n",
       "  </thead>\n",
       "  <tbody>\n",
       "    <tr>\n",
       "      <th>0</th>\n",
       "      <td>MITSUBISHI PAJERO 3.5L / 2013</td>\n",
       "      <td>26,000</td>\n",
       "      <td>167390</td>\n",
       "      <td>Perfect inside and out</td>\n",
       "      <td>Perfect inside and out</td>\n",
       "      <td>Dealer</td>\n",
       "      <td>SUV</td>\n",
       "      <td>6</td>\n",
       "      <td>Automatic Transmission</td>\n",
       "      <td>GCC Specs</td>\n",
       "      <td>Unknown</td>\n",
       "      <td>Gasoline</td>\n",
       "      <td>Left Hand Side</td>\n",
       "      <td>2013.0</td>\n",
       "      <td>Silver</td>\n",
       "      <td>Dubai</td>\n",
       "      <td>GLS</td>\n",
       "      <td>mitsubishi</td>\n",
       "      <td>pajero</td>\n",
       "      <td>13/05/2022</td>\n",
       "    </tr>\n",
       "  </tbody>\n",
       "</table>\n",
       "</div>"
      ],
      "text/plain": [
       "                           title price_in_aed  kilometers  \\\n",
       "0  MITSUBISHI PAJERO 3.5L / 2013       26,000      167390   \n",
       "\n",
       "           body_condition    mechanical_condition seller_type body_type  \\\n",
       "0  Perfect inside and out  Perfect inside and out      Dealer       SUV   \n",
       "\n",
       "  no_of_cylinders       transmission_type regional_specs horsepower fuel_type  \\\n",
       "0               6  Automatic Transmission      GCC Specs    Unknown  Gasoline   \n",
       "\n",
       "    steering_side    year   color emirate motors_trim     company   model  \\\n",
       "0  Left Hand Side  2013.0  Silver   Dubai         GLS  mitsubishi  pajero   \n",
       "\n",
       "  date_posted  \n",
       "0  13/05/2022  "
      ]
     },
     "execution_count": 2,
     "metadata": {},
     "output_type": "execute_result"
    }
   ],
   "source": [
    "df = pd.read_csv('data.csv')\n",
    "df.head(1)"
   ]
  },
  {
   "cell_type": "code",
   "execution_count": 3,
   "id": "13528431",
   "metadata": {},
   "outputs": [
    {
     "data": {
      "text/plain": [
       "(9970, 20)"
      ]
     },
     "execution_count": 3,
     "metadata": {},
     "output_type": "execute_result"
    }
   ],
   "source": [
    "df.shape"
   ]
  },
  {
   "cell_type": "code",
   "execution_count": 4,
   "id": "bd6e272a",
   "metadata": {},
   "outputs": [
    {
     "name": "stdout",
     "output_type": "stream",
     "text": [
      "<class 'pandas.core.frame.DataFrame'>\n",
      "RangeIndex: 9970 entries, 0 to 9969\n",
      "Data columns (total 20 columns):\n",
      " #   Column                Non-Null Count  Dtype  \n",
      "---  ------                --------------  -----  \n",
      " 0   title                 9965 non-null   object \n",
      " 1   price_in_aed          9970 non-null   object \n",
      " 2   kilometers            9970 non-null   int64  \n",
      " 3   body_condition        9970 non-null   object \n",
      " 4   mechanical_condition  9970 non-null   object \n",
      " 5   seller_type           9970 non-null   object \n",
      " 6   body_type             9970 non-null   object \n",
      " 7   no_of_cylinders       9911 non-null   object \n",
      " 8   transmission_type     9970 non-null   object \n",
      " 9   regional_specs        9970 non-null   object \n",
      " 10  horsepower            9970 non-null   object \n",
      " 11  fuel_type             9970 non-null   object \n",
      " 12  steering_side         9970 non-null   object \n",
      " 13  year                  9000 non-null   float64\n",
      " 14  color                 9970 non-null   object \n",
      " 15  emirate               9970 non-null   object \n",
      " 16  motors_trim           9942 non-null   object \n",
      " 17  company               9970 non-null   object \n",
      " 18  model                 9970 non-null   object \n",
      " 19  date_posted           9970 non-null   object \n",
      "dtypes: float64(1), int64(1), object(18)\n",
      "memory usage: 1.5+ MB\n"
     ]
    }
   ],
   "source": [
    "df.info()"
   ]
  },
  {
   "cell_type": "code",
   "execution_count": 5,
   "id": "9925c387",
   "metadata": {},
   "outputs": [
    {
     "data": {
      "text/html": [
       "<div>\n",
       "<style scoped>\n",
       "    .dataframe tbody tr th:only-of-type {\n",
       "        vertical-align: middle;\n",
       "    }\n",
       "\n",
       "    .dataframe tbody tr th {\n",
       "        vertical-align: top;\n",
       "    }\n",
       "\n",
       "    .dataframe thead th {\n",
       "        text-align: right;\n",
       "    }\n",
       "</style>\n",
       "<table border=\"1\" class=\"dataframe\">\n",
       "  <thead>\n",
       "    <tr style=\"text-align: right;\">\n",
       "      <th></th>\n",
       "      <th>company</th>\n",
       "      <th>model</th>\n",
       "      <th>year</th>\n",
       "      <th>color</th>\n",
       "      <th>body_type</th>\n",
       "      <th>no_of_cylinders</th>\n",
       "      <th>transmission_type</th>\n",
       "      <th>horsepower</th>\n",
       "      <th>fuel_type</th>\n",
       "      <th>steering_side</th>\n",
       "      <th>body_condition</th>\n",
       "      <th>mechanical_condition</th>\n",
       "      <th>kilometers</th>\n",
       "      <th>price_in_aed</th>\n",
       "    </tr>\n",
       "  </thead>\n",
       "  <tbody>\n",
       "    <tr>\n",
       "      <th>0</th>\n",
       "      <td>mitsubishi</td>\n",
       "      <td>pajero</td>\n",
       "      <td>2013.0</td>\n",
       "      <td>Silver</td>\n",
       "      <td>SUV</td>\n",
       "      <td>6</td>\n",
       "      <td>Automatic Transmission</td>\n",
       "      <td>Unknown</td>\n",
       "      <td>Gasoline</td>\n",
       "      <td>Left Hand Side</td>\n",
       "      <td>Perfect inside and out</td>\n",
       "      <td>Perfect inside and out</td>\n",
       "      <td>167390</td>\n",
       "      <td>26,000</td>\n",
       "    </tr>\n",
       "    <tr>\n",
       "      <th>1</th>\n",
       "      <td>chevrolet</td>\n",
       "      <td>silverado</td>\n",
       "      <td>2018.0</td>\n",
       "      <td>White</td>\n",
       "      <td>SUV</td>\n",
       "      <td>8</td>\n",
       "      <td>Automatic Transmission</td>\n",
       "      <td>400 - 500 HP</td>\n",
       "      <td>Gasoline</td>\n",
       "      <td>Left Hand Side</td>\n",
       "      <td>Perfect inside and out</td>\n",
       "      <td>Perfect inside and out</td>\n",
       "      <td>39000</td>\n",
       "      <td>110,000</td>\n",
       "    </tr>\n",
       "    <tr>\n",
       "      <th>2</th>\n",
       "      <td>mercedes-benz</td>\n",
       "      <td>e-class</td>\n",
       "      <td>2014.0</td>\n",
       "      <td>Blue</td>\n",
       "      <td>Sedan</td>\n",
       "      <td>6</td>\n",
       "      <td>Automatic Transmission</td>\n",
       "      <td>400 - 500 HP</td>\n",
       "      <td>Gasoline</td>\n",
       "      <td>Left Hand Side</td>\n",
       "      <td>Perfect inside and out</td>\n",
       "      <td>Perfect inside and out</td>\n",
       "      <td>200000</td>\n",
       "      <td>78,000</td>\n",
       "    </tr>\n",
       "    <tr>\n",
       "      <th>3</th>\n",
       "      <td>ferrari</td>\n",
       "      <td>488-spider</td>\n",
       "      <td>2018.0</td>\n",
       "      <td>Red</td>\n",
       "      <td>Hard Top Convertible</td>\n",
       "      <td>8</td>\n",
       "      <td>Automatic Transmission</td>\n",
       "      <td>600 - 700 HP</td>\n",
       "      <td>Gasoline</td>\n",
       "      <td>Left Hand Side</td>\n",
       "      <td>Perfect inside and out</td>\n",
       "      <td>Perfect inside and out</td>\n",
       "      <td>27000</td>\n",
       "      <td>899,000</td>\n",
       "    </tr>\n",
       "    <tr>\n",
       "      <th>4</th>\n",
       "      <td>renault</td>\n",
       "      <td>dokker</td>\n",
       "      <td>2020.0</td>\n",
       "      <td>White</td>\n",
       "      <td>Wagon</td>\n",
       "      <td>4</td>\n",
       "      <td>Manual Transmission</td>\n",
       "      <td>Less than 150 HP</td>\n",
       "      <td>Gasoline</td>\n",
       "      <td>Left Hand Side</td>\n",
       "      <td>Perfect inside and out</td>\n",
       "      <td>Perfect inside and out</td>\n",
       "      <td>69000</td>\n",
       "      <td>33,000</td>\n",
       "    </tr>\n",
       "  </tbody>\n",
       "</table>\n",
       "</div>"
      ],
      "text/plain": [
       "         company       model    year   color             body_type  \\\n",
       "0     mitsubishi      pajero  2013.0  Silver                   SUV   \n",
       "1      chevrolet   silverado  2018.0   White                   SUV   \n",
       "2  mercedes-benz     e-class  2014.0    Blue                 Sedan   \n",
       "3        ferrari  488-spider  2018.0     Red  Hard Top Convertible   \n",
       "4        renault      dokker  2020.0   White                 Wagon   \n",
       "\n",
       "  no_of_cylinders       transmission_type        horsepower fuel_type  \\\n",
       "0               6  Automatic Transmission           Unknown  Gasoline   \n",
       "1               8  Automatic Transmission      400 - 500 HP  Gasoline   \n",
       "2               6  Automatic Transmission      400 - 500 HP  Gasoline   \n",
       "3               8  Automatic Transmission      600 - 700 HP  Gasoline   \n",
       "4               4     Manual Transmission  Less than 150 HP  Gasoline   \n",
       "\n",
       "    steering_side          body_condition    mechanical_condition  kilometers  \\\n",
       "0  Left Hand Side  Perfect inside and out  Perfect inside and out      167390   \n",
       "1  Left Hand Side  Perfect inside and out  Perfect inside and out       39000   \n",
       "2  Left Hand Side  Perfect inside and out  Perfect inside and out      200000   \n",
       "3  Left Hand Side  Perfect inside and out  Perfect inside and out       27000   \n",
       "4  Left Hand Side  Perfect inside and out  Perfect inside and out       69000   \n",
       "\n",
       "  price_in_aed  \n",
       "0       26,000  \n",
       "1      110,000  \n",
       "2       78,000  \n",
       "3      899,000  \n",
       "4       33,000  "
      ]
     },
     "execution_count": 5,
     "metadata": {},
     "output_type": "execute_result"
    }
   ],
   "source": [
    "essential_fields = ['company', 'model', 'year', 'color', 'body_type', 'no_of_cylinders',\n",
    "                    'transmission_type', 'horsepower', 'fuel_type', 'steering_side', 'body_condition',\n",
    "                    'mechanical_condition', 'kilometers', 'price_in_aed']\n",
    "\n",
    "df = df[essential_fields]\n",
    "df.head()"
   ]
  },
  {
   "cell_type": "code",
   "execution_count": 6,
   "id": "6f28bad3",
   "metadata": {
    "scrolled": true
   },
   "outputs": [
    {
     "data": {
      "text/plain": [
       "(73, 552)"
      ]
     },
     "execution_count": 6,
     "metadata": {},
     "output_type": "execute_result"
    }
   ],
   "source": [
    "df['company'].nunique(), df['model'].nunique()"
   ]
  },
  {
   "cell_type": "markdown",
   "id": "98f9c8d2",
   "metadata": {},
   "source": [
    "My initial thought was to include the make and model of each vehicle, but the size of both's unique values would cause for far too much encoding to include in the model.  Instead I decided to limit the model's predictors to fields that had 20 or less unique values."
   ]
  },
  {
   "cell_type": "code",
   "execution_count": 7,
   "id": "85a579a2",
   "metadata": {
    "scrolled": true
   },
   "outputs": [
    {
     "data": {
      "text/html": [
       "<div>\n",
       "<style scoped>\n",
       "    .dataframe tbody tr th:only-of-type {\n",
       "        vertical-align: middle;\n",
       "    }\n",
       "\n",
       "    .dataframe tbody tr th {\n",
       "        vertical-align: top;\n",
       "    }\n",
       "\n",
       "    .dataframe thead th {\n",
       "        text-align: right;\n",
       "    }\n",
       "</style>\n",
       "<table border=\"1\" class=\"dataframe\">\n",
       "  <thead>\n",
       "    <tr style=\"text-align: right;\">\n",
       "      <th></th>\n",
       "      <th>price_in_aed</th>\n",
       "      <th>year</th>\n",
       "      <th>kilometers</th>\n",
       "      <th>color</th>\n",
       "      <th>body_type</th>\n",
       "      <th>no_of_cylinders</th>\n",
       "      <th>transmission_type</th>\n",
       "      <th>horsepower</th>\n",
       "      <th>fuel_type</th>\n",
       "      <th>steering_side</th>\n",
       "      <th>body_condition</th>\n",
       "      <th>mechanical_condition</th>\n",
       "    </tr>\n",
       "  </thead>\n",
       "  <tbody>\n",
       "    <tr>\n",
       "      <th>0</th>\n",
       "      <td>26,000</td>\n",
       "      <td>2013.0</td>\n",
       "      <td>167390</td>\n",
       "      <td>Silver</td>\n",
       "      <td>SUV</td>\n",
       "      <td>6</td>\n",
       "      <td>Automatic Transmission</td>\n",
       "      <td>Unknown</td>\n",
       "      <td>Gasoline</td>\n",
       "      <td>Left Hand Side</td>\n",
       "      <td>Perfect inside and out</td>\n",
       "      <td>Perfect inside and out</td>\n",
       "    </tr>\n",
       "  </tbody>\n",
       "</table>\n",
       "</div>"
      ],
      "text/plain": [
       "  price_in_aed    year  kilometers   color body_type no_of_cylinders  \\\n",
       "0       26,000  2013.0      167390  Silver       SUV               6   \n",
       "\n",
       "        transmission_type horsepower fuel_type   steering_side  \\\n",
       "0  Automatic Transmission    Unknown  Gasoline  Left Hand Side   \n",
       "\n",
       "           body_condition    mechanical_condition  \n",
       "0  Perfect inside and out  Perfect inside and out  "
      ]
     },
     "execution_count": 7,
     "metadata": {},
     "output_type": "execute_result"
    }
   ],
   "source": [
    "essential_fields = ['price_in_aed', 'year', 'kilometers', 'color', 'body_type', \n",
    "                    'no_of_cylinders', 'transmission_type', 'horsepower', 'fuel_type', \n",
    "                    'steering_side', 'body_condition', 'mechanical_condition']\n",
    "\n",
    "df = df[essential_fields]\n",
    "df.head(1)"
   ]
  },
  {
   "cell_type": "code",
   "execution_count": 8,
   "id": "d8ba061e",
   "metadata": {
    "scrolled": true
   },
   "outputs": [
    {
     "data": {
      "text/plain": [
       "(9970, 12)"
      ]
     },
     "execution_count": 8,
     "metadata": {},
     "output_type": "execute_result"
    }
   ],
   "source": [
    "df.shape"
   ]
  },
  {
   "cell_type": "code",
   "execution_count": 9,
   "id": "3792227b",
   "metadata": {},
   "outputs": [
    {
     "data": {
      "text/plain": [
       "price_in_aed              0\n",
       "year                    970\n",
       "kilometers                0\n",
       "color                     0\n",
       "body_type                 0\n",
       "no_of_cylinders          59\n",
       "transmission_type         0\n",
       "horsepower                0\n",
       "fuel_type                 0\n",
       "steering_side             0\n",
       "body_condition            0\n",
       "mechanical_condition      0\n",
       "dtype: int64"
      ]
     },
     "execution_count": 9,
     "metadata": {},
     "output_type": "execute_result"
    }
   ],
   "source": [
    "df.isna().sum()"
   ]
  },
  {
   "cell_type": "code",
   "execution_count": 10,
   "id": "cbeb16de",
   "metadata": {},
   "outputs": [
    {
     "data": {
      "text/plain": [
       "17"
      ]
     },
     "execution_count": 10,
     "metadata": {},
     "output_type": "execute_result"
    }
   ],
   "source": [
    "df['color'].nunique()"
   ]
  },
  {
   "cell_type": "code",
   "execution_count": 11,
   "id": "363913ab",
   "metadata": {},
   "outputs": [
    {
     "data": {
      "text/plain": [
       "White          3333\n",
       "Black          2096\n",
       "Grey           1325\n",
       "Silver          851\n",
       "Blue            712\n",
       "Red             600\n",
       "Gold            257\n",
       "Brown           237\n",
       "Green           142\n",
       "Orange           79\n",
       "Other Color      79\n",
       "Yellow           78\n",
       "Beige            73\n",
       "Burgundy         71\n",
       "Purple           24\n",
       "Teal              8\n",
       "Tan               5\n",
       "Name: color, dtype: int64"
      ]
     },
     "execution_count": 11,
     "metadata": {},
     "output_type": "execute_result"
    }
   ],
   "source": [
    "df['color'].value_counts()"
   ]
  },
  {
   "cell_type": "code",
   "execution_count": 12,
   "id": "31a0b2ba",
   "metadata": {
    "scrolled": true
   },
   "outputs": [
    {
     "data": {
      "text/plain": [
       "13"
      ]
     },
     "execution_count": 12,
     "metadata": {},
     "output_type": "execute_result"
    }
   ],
   "source": [
    "df['body_type'].nunique()"
   ]
  },
  {
   "cell_type": "code",
   "execution_count": 13,
   "id": "44ab3e2f",
   "metadata": {},
   "outputs": [
    {
     "data": {
      "text/plain": [
       "SUV                     4566\n",
       "Sedan                   2748\n",
       "Coupe                    851\n",
       "Pick Up Truck            428\n",
       "Hatchback                344\n",
       "Sports Car               260\n",
       "Hard Top Convertible     162\n",
       "Van                      162\n",
       "Soft Top Convertible     142\n",
       "Crossover                114\n",
       "Other                    102\n",
       "Wagon                     66\n",
       "Utility Truck             25\n",
       "Name: body_type, dtype: int64"
      ]
     },
     "execution_count": 13,
     "metadata": {},
     "output_type": "execute_result"
    }
   ],
   "source": [
    "df['body_type'].value_counts()"
   ]
  },
  {
   "cell_type": "code",
   "execution_count": 14,
   "id": "820d8221",
   "metadata": {},
   "outputs": [
    {
     "data": {
      "text/plain": [
       "9"
      ]
     },
     "execution_count": 14,
     "metadata": {},
     "output_type": "execute_result"
    }
   ],
   "source": [
    "df['no_of_cylinders'].nunique()"
   ]
  },
  {
   "cell_type": "code",
   "execution_count": 15,
   "id": "6749e1c9",
   "metadata": {},
   "outputs": [
    {
     "data": {
      "text/plain": [
       "6          3325\n",
       "4          2993\n",
       "8          2986\n",
       "12          366\n",
       "Unknown      57\n",
       "3            56\n",
       "10           53\n",
       "5            53\n",
       "None         22\n",
       "Name: no_of_cylinders, dtype: int64"
      ]
     },
     "execution_count": 15,
     "metadata": {},
     "output_type": "execute_result"
    }
   ],
   "source": [
    "df['no_of_cylinders'].value_counts()"
   ]
  },
  {
   "cell_type": "code",
   "execution_count": 16,
   "id": "f963ed01",
   "metadata": {},
   "outputs": [
    {
     "data": {
      "text/plain": [
       "2"
      ]
     },
     "execution_count": 16,
     "metadata": {},
     "output_type": "execute_result"
    }
   ],
   "source": [
    "df['transmission_type'].nunique()"
   ]
  },
  {
   "cell_type": "code",
   "execution_count": 17,
   "id": "e5e91088",
   "metadata": {},
   "outputs": [
    {
     "data": {
      "text/plain": [
       "Automatic Transmission    9581\n",
       "Manual Transmission        389\n",
       "Name: transmission_type, dtype: int64"
      ]
     },
     "execution_count": 17,
     "metadata": {},
     "output_type": "execute_result"
    }
   ],
   "source": [
    "df['transmission_type'].value_counts()"
   ]
  },
  {
   "cell_type": "code",
   "execution_count": 18,
   "id": "33052006",
   "metadata": {},
   "outputs": [
    {
     "data": {
      "text/plain": [
       "11"
      ]
     },
     "execution_count": 18,
     "metadata": {},
     "output_type": "execute_result"
    }
   ],
   "source": [
    "df['horsepower'].nunique()"
   ]
  },
  {
   "cell_type": "code",
   "execution_count": 19,
   "id": "ae423971",
   "metadata": {},
   "outputs": [
    {
     "data": {
      "text/plain": [
       "200 - 300 HP        2432\n",
       "300 - 400 HP        2208\n",
       "400 - 500 HP        1279\n",
       "150 - 200 HP        1222\n",
       "500 - 600 HP        1027\n",
       "Unknown              814\n",
       "Less than 150 HP     394\n",
       "600 - 700 HP         391\n",
       "700 - 800 HP         153\n",
       "800 - 900 HP          30\n",
       "900+ HP               20\n",
       "Name: horsepower, dtype: int64"
      ]
     },
     "execution_count": 19,
     "metadata": {},
     "output_type": "execute_result"
    }
   ],
   "source": [
    "df['horsepower'].value_counts()"
   ]
  },
  {
   "cell_type": "code",
   "execution_count": 20,
   "id": "718ab1c9",
   "metadata": {},
   "outputs": [
    {
     "data": {
      "text/plain": [
       "4"
      ]
     },
     "execution_count": 20,
     "metadata": {},
     "output_type": "execute_result"
    }
   ],
   "source": [
    "df['fuel_type'].nunique()"
   ]
  },
  {
   "cell_type": "code",
   "execution_count": 21,
   "id": "ff1dc0eb",
   "metadata": {},
   "outputs": [
    {
     "data": {
      "text/plain": [
       "Gasoline    9695\n",
       "Diesel       167\n",
       "Electric      85\n",
       "Hybrid        23\n",
       "Name: fuel_type, dtype: int64"
      ]
     },
     "execution_count": 21,
     "metadata": {},
     "output_type": "execute_result"
    }
   ],
   "source": [
    "df['fuel_type'].value_counts()"
   ]
  },
  {
   "cell_type": "code",
   "execution_count": 22,
   "id": "9ab3fb3f",
   "metadata": {
    "scrolled": true
   },
   "outputs": [
    {
     "data": {
      "text/plain": [
       "2"
      ]
     },
     "execution_count": 22,
     "metadata": {},
     "output_type": "execute_result"
    }
   ],
   "source": [
    "df['steering_side'].nunique()"
   ]
  },
  {
   "cell_type": "code",
   "execution_count": 23,
   "id": "b19f7735",
   "metadata": {},
   "outputs": [
    {
     "data": {
      "text/plain": [
       "Left Hand Side     9965\n",
       "Right Hand Side       5\n",
       "Name: steering_side, dtype: int64"
      ]
     },
     "execution_count": 23,
     "metadata": {},
     "output_type": "execute_result"
    }
   ],
   "source": [
    "df['steering_side'].value_counts()"
   ]
  },
  {
   "cell_type": "code",
   "execution_count": 24,
   "id": "2274afe6",
   "metadata": {},
   "outputs": [
    {
     "data": {
      "text/plain": [
       "4"
      ]
     },
     "execution_count": 24,
     "metadata": {},
     "output_type": "execute_result"
    }
   ],
   "source": [
    "df['body_condition'].nunique()"
   ]
  },
  {
   "cell_type": "code",
   "execution_count": 25,
   "id": "3f0894e9",
   "metadata": {},
   "outputs": [
    {
     "data": {
      "text/plain": [
       "Perfect inside and out                9612\n",
       "No accidents, very few faults          208\n",
       "A bit of wear & tear, all repaired     119\n",
       "Normal wear & tear, a few issues        31\n",
       "Name: body_condition, dtype: int64"
      ]
     },
     "execution_count": 25,
     "metadata": {},
     "output_type": "execute_result"
    }
   ],
   "source": [
    "df['body_condition'].value_counts()"
   ]
  },
  {
   "cell_type": "code",
   "execution_count": 26,
   "id": "729b70e3",
   "metadata": {},
   "outputs": [
    {
     "data": {
      "text/plain": [
       "5"
      ]
     },
     "execution_count": 26,
     "metadata": {},
     "output_type": "execute_result"
    }
   ],
   "source": [
    "df['mechanical_condition'].nunique()"
   ]
  },
  {
   "cell_type": "code",
   "execution_count": 27,
   "id": "7747cad3",
   "metadata": {},
   "outputs": [
    {
     "data": {
      "text/plain": [
       "Perfect inside and out              9822\n",
       "Minor faults, all fixed              136\n",
       "Major faults fixed, small remain       8\n",
       "Ongoing minor & major faults           3\n",
       "Major faults, all fixed                1\n",
       "Name: mechanical_condition, dtype: int64"
      ]
     },
     "execution_count": 27,
     "metadata": {},
     "output_type": "execute_result"
    }
   ],
   "source": [
    "df['mechanical_condition'].value_counts()"
   ]
  },
  {
   "cell_type": "markdown",
   "id": "451e7f64",
   "metadata": {},
   "source": [
    "After reviewing the available features, the dataset largely consists of vehicles that were automatic, gasoline powered, and had left-handed steering. Since steering is so heavily skewed to the left-handed variety (less than 1% of values are right-handed), I'll drop that feature.\n",
    "\n",
    "A number of features had Unknown listed as a category, we'll change that to NaN as it's missing.  We'll also standardize any Other categories to \"Other\"."
   ]
  },
  {
   "cell_type": "code",
   "execution_count": 28,
   "id": "5728880e",
   "metadata": {},
   "outputs": [],
   "source": [
    "df.drop('steering_side', axis=1, inplace=True)"
   ]
  },
  {
   "cell_type": "code",
   "execution_count": 29,
   "id": "b0e44237",
   "metadata": {},
   "outputs": [],
   "source": [
    "essential_fields = ['price_in_aed', 'year', 'kilometers', 'color', 'body_type', \n",
    "                    'no_of_cylinders', 'transmission_type', 'horsepower', 'fuel_type', \n",
    "                    'body_condition', 'mechanical_condition']"
   ]
  },
  {
   "cell_type": "code",
   "execution_count": 30,
   "id": "0c470ade",
   "metadata": {},
   "outputs": [],
   "source": [
    "other = ['Other Color']\n",
    "unknown = ['Unknown']\n",
    "df[essential_fields] = df[essential_fields].replace(to_replace = other, value= 'Other')\n",
    "df[essential_fields] = df[essential_fields].replace(to_replace = unknown, value= np.nan)"
   ]
  },
  {
   "cell_type": "code",
   "execution_count": 31,
   "id": "228c24e5",
   "metadata": {
    "scrolled": true
   },
   "outputs": [
    {
     "data": {
      "text/plain": [
       "White       3333\n",
       "Black       2096\n",
       "Grey        1325\n",
       "Silver       851\n",
       "Blue         712\n",
       "Red          600\n",
       "Gold         257\n",
       "Brown        237\n",
       "Green        142\n",
       "Orange        79\n",
       "Other         79\n",
       "Yellow        78\n",
       "Beige         73\n",
       "Burgundy      71\n",
       "Purple        24\n",
       "Teal           8\n",
       "Tan            5\n",
       "Name: color, dtype: int64"
      ]
     },
     "execution_count": 31,
     "metadata": {},
     "output_type": "execute_result"
    }
   ],
   "source": [
    "df['color'].value_counts()"
   ]
  },
  {
   "cell_type": "code",
   "execution_count": 32,
   "id": "6e8db021",
   "metadata": {},
   "outputs": [
    {
     "data": {
      "text/plain": [
       "SUV                     4566\n",
       "Sedan                   2748\n",
       "Coupe                    851\n",
       "Pick Up Truck            428\n",
       "Hatchback                344\n",
       "Sports Car               260\n",
       "Hard Top Convertible     162\n",
       "Van                      162\n",
       "Soft Top Convertible     142\n",
       "Crossover                114\n",
       "Other                    102\n",
       "Wagon                     66\n",
       "Utility Truck             25\n",
       "Name: body_type, dtype: int64"
      ]
     },
     "execution_count": 32,
     "metadata": {},
     "output_type": "execute_result"
    }
   ],
   "source": [
    "df['body_type'].value_counts()"
   ]
  },
  {
   "cell_type": "code",
   "execution_count": 33,
   "id": "d2620e2a",
   "metadata": {},
   "outputs": [
    {
     "data": {
      "text/plain": [
       "6       3325\n",
       "4       2993\n",
       "8       2986\n",
       "12       366\n",
       "3         56\n",
       "10        53\n",
       "5         53\n",
       "None      22\n",
       "Name: no_of_cylinders, dtype: int64"
      ]
     },
     "execution_count": 33,
     "metadata": {},
     "output_type": "execute_result"
    }
   ],
   "source": [
    "df['no_of_cylinders'].value_counts()"
   ]
  },
  {
   "cell_type": "code",
   "execution_count": 34,
   "id": "0fd4c66a",
   "metadata": {},
   "outputs": [
    {
     "data": {
      "text/plain": [
       "200 - 300 HP        2432\n",
       "300 - 400 HP        2208\n",
       "400 - 500 HP        1279\n",
       "150 - 200 HP        1222\n",
       "500 - 600 HP        1027\n",
       "Less than 150 HP     394\n",
       "600 - 700 HP         391\n",
       "700 - 800 HP         153\n",
       "800 - 900 HP          30\n",
       "900+ HP               20\n",
       "Name: horsepower, dtype: int64"
      ]
     },
     "execution_count": 34,
     "metadata": {},
     "output_type": "execute_result"
    }
   ],
   "source": [
    "df['horsepower'].value_counts()"
   ]
  },
  {
   "cell_type": "code",
   "execution_count": 35,
   "id": "0b091bae",
   "metadata": {},
   "outputs": [
    {
     "data": {
      "text/plain": [
       "price_in_aed              0\n",
       "year                    970\n",
       "kilometers                0\n",
       "color                     0\n",
       "body_type                 0\n",
       "no_of_cylinders         116\n",
       "transmission_type         0\n",
       "horsepower              814\n",
       "fuel_type                 0\n",
       "body_condition            0\n",
       "mechanical_condition      0\n",
       "dtype: int64"
      ]
     },
     "execution_count": 35,
     "metadata": {},
     "output_type": "execute_result"
    }
   ],
   "source": [
    "df.isna().sum()"
   ]
  },
  {
   "cell_type": "markdown",
   "id": "895eb174",
   "metadata": {},
   "source": [
    "Now we'll handed our missing values by doing the following:\n",
    "\n",
    "1. Remove vehicles that do not have a year and have zero kilometers\n",
    "    - The inference here is that if a vehicle has no kilometers, the vehicle is brand new.\n",
    "2. Fill remaining missing values in the year column with the dataset's median year, 2016.\n",
    "3. Remove any remaining vehicles that have zero kilometers (not dependent on missing year anymore)\n",
    "4. Filling missing values in horsepower (our only categorical feature) with -1 for future encoding.\n",
    "5. Remove missing values in no_of_cylinders as they cannot be easily infered and they are numerical so they do not require encoding. "
   ]
  },
  {
   "cell_type": "code",
   "execution_count": 36,
   "id": "6039d6de",
   "metadata": {
    "scrolled": true
   },
   "outputs": [
    {
     "data": {
      "text/plain": [
       "(9408, 11)"
      ]
     },
     "execution_count": 36,
     "metadata": {},
     "output_type": "execute_result"
    }
   ],
   "source": [
    "df = df[(df['year'].notnull()) | (df['kilometers'] != 0)]\n",
    "df.shape"
   ]
  },
  {
   "cell_type": "code",
   "execution_count": 37,
   "id": "5d915eee",
   "metadata": {},
   "outputs": [
    {
     "data": {
      "text/plain": [
       "price_in_aed              0\n",
       "year                    408\n",
       "kilometers                0\n",
       "color                     0\n",
       "body_type                 0\n",
       "no_of_cylinders          95\n",
       "transmission_type         0\n",
       "horsepower              766\n",
       "fuel_type                 0\n",
       "body_condition            0\n",
       "mechanical_condition      0\n",
       "dtype: int64"
      ]
     },
     "execution_count": 37,
     "metadata": {},
     "output_type": "execute_result"
    }
   ],
   "source": [
    "df.isna().sum()"
   ]
  },
  {
   "cell_type": "code",
   "execution_count": 38,
   "id": "c11fb281",
   "metadata": {},
   "outputs": [
    {
     "data": {
      "text/plain": [
       "0"
      ]
     },
     "execution_count": 38,
     "metadata": {},
     "output_type": "execute_result"
    }
   ],
   "source": [
    "new = (df['year'].isna()) & (df['kilometers'] == 0)\n",
    "new.sum()"
   ]
  },
  {
   "cell_type": "code",
   "execution_count": 39,
   "id": "0b626720",
   "metadata": {},
   "outputs": [
    {
     "data": {
      "text/plain": [
       "count    9000.000000\n",
       "mean     2015.626444\n",
       "std         4.735991\n",
       "min      1953.000000\n",
       "25%      2014.000000\n",
       "50%      2016.000000\n",
       "75%      2019.000000\n",
       "max      2021.000000\n",
       "Name: year, dtype: float64"
      ]
     },
     "execution_count": 39,
     "metadata": {},
     "output_type": "execute_result"
    }
   ],
   "source": [
    "df['year'].describe()"
   ]
  },
  {
   "cell_type": "code",
   "execution_count": 40,
   "id": "e7e3fa3f",
   "metadata": {},
   "outputs": [
    {
     "data": {
      "text/plain": [
       "(9408, 11)"
      ]
     },
     "execution_count": 40,
     "metadata": {},
     "output_type": "execute_result"
    }
   ],
   "source": [
    "df['year'] = df['year'].fillna(value=2016)\n",
    "df.shape"
   ]
  },
  {
   "cell_type": "code",
   "execution_count": 41,
   "id": "acd9ac67",
   "metadata": {},
   "outputs": [
    {
     "data": {
      "text/plain": [
       "price_in_aed              0\n",
       "year                      0\n",
       "kilometers                0\n",
       "color                     0\n",
       "body_type                 0\n",
       "no_of_cylinders          95\n",
       "transmission_type         0\n",
       "horsepower              766\n",
       "fuel_type                 0\n",
       "body_condition            0\n",
       "mechanical_condition      0\n",
       "dtype: int64"
      ]
     },
     "execution_count": 41,
     "metadata": {},
     "output_type": "execute_result"
    }
   ],
   "source": [
    "df.isna().sum()"
   ]
  },
  {
   "cell_type": "code",
   "execution_count": 42,
   "id": "7267f82f",
   "metadata": {
    "scrolled": true
   },
   "outputs": [
    {
     "data": {
      "text/plain": [
       "236"
      ]
     },
     "execution_count": 42,
     "metadata": {},
     "output_type": "execute_result"
    }
   ],
   "source": [
    "new = (df['kilometers'] == 0)\n",
    "new.sum()"
   ]
  },
  {
   "cell_type": "code",
   "execution_count": 43,
   "id": "4891246f",
   "metadata": {},
   "outputs": [
    {
     "data": {
      "text/plain": [
       "(9172, 11)"
      ]
     },
     "execution_count": 43,
     "metadata": {},
     "output_type": "execute_result"
    }
   ],
   "source": [
    "df = df[df['kilometers'] != 0]\n",
    "df.shape"
   ]
  },
  {
   "cell_type": "code",
   "execution_count": 44,
   "id": "185ff8c9",
   "metadata": {
    "scrolled": false
   },
   "outputs": [
    {
     "data": {
      "text/plain": [
       "price_in_aed              0\n",
       "year                      0\n",
       "kilometers                0\n",
       "color                     0\n",
       "body_type                 0\n",
       "no_of_cylinders          71\n",
       "transmission_type         0\n",
       "horsepower              739\n",
       "fuel_type                 0\n",
       "body_condition            0\n",
       "mechanical_condition      0\n",
       "dtype: int64"
      ]
     },
     "execution_count": 44,
     "metadata": {},
     "output_type": "execute_result"
    }
   ],
   "source": [
    "df.isna().sum()"
   ]
  },
  {
   "cell_type": "code",
   "execution_count": 45,
   "id": "1f927b23",
   "metadata": {},
   "outputs": [],
   "source": [
    "df['horsepower'] = df['horsepower'].fillna(value=-1)\n",
    "df.dropna(inplace=True)"
   ]
  },
  {
   "cell_type": "code",
   "execution_count": 46,
   "id": "20caa829",
   "metadata": {
    "scrolled": false
   },
   "outputs": [
    {
     "data": {
      "text/plain": [
       "price_in_aed            0\n",
       "year                    0\n",
       "kilometers              0\n",
       "color                   0\n",
       "body_type               0\n",
       "no_of_cylinders         0\n",
       "transmission_type       0\n",
       "horsepower              0\n",
       "fuel_type               0\n",
       "body_condition          0\n",
       "mechanical_condition    0\n",
       "dtype: int64"
      ]
     },
     "execution_count": 46,
     "metadata": {},
     "output_type": "execute_result"
    }
   ],
   "source": [
    "df.isna().sum()"
   ]
  },
  {
   "cell_type": "code",
   "execution_count": 47,
   "id": "c269cd32",
   "metadata": {},
   "outputs": [
    {
     "data": {
      "text/plain": [
       "(9101, 11)"
      ]
     },
     "execution_count": 47,
     "metadata": {},
     "output_type": "execute_result"
    }
   ],
   "source": [
    "df.shape"
   ]
  },
  {
   "cell_type": "markdown",
   "id": "adf1d899",
   "metadata": {},
   "source": [
    "The next step will be to recode our categorical values so they can processed in our model.  Each feature will have the following encoding:\n",
    "\n",
    "- One-Hot Encoding (No natural order):\n",
    "    - color\n",
    "    - body_type\n",
    "    - transmission_type\n",
    "    - fuel_type\n",
    "\n",
    "- Numerical Encoding with Mapping:\n",
    "    - Lowest Value receiveing 0 and increaseing by 1 per value\n",
    "        - horsepower\n",
    "    - Lowest Condition receiving 0, increasing by 1 per additional value\n",
    "        - body_condition\n",
    "        - mechanical_condition\n"
   ]
  },
  {
   "cell_type": "code",
   "execution_count": 48,
   "id": "e152c627",
   "metadata": {},
   "outputs": [
    {
     "data": {
      "text/html": [
       "<div>\n",
       "<style scoped>\n",
       "    .dataframe tbody tr th:only-of-type {\n",
       "        vertical-align: middle;\n",
       "    }\n",
       "\n",
       "    .dataframe tbody tr th {\n",
       "        vertical-align: top;\n",
       "    }\n",
       "\n",
       "    .dataframe thead th {\n",
       "        text-align: right;\n",
       "    }\n",
       "</style>\n",
       "<table border=\"1\" class=\"dataframe\">\n",
       "  <thead>\n",
       "    <tr style=\"text-align: right;\">\n",
       "      <th></th>\n",
       "      <th>price_in_aed</th>\n",
       "      <th>year</th>\n",
       "      <th>kilometers</th>\n",
       "      <th>no_of_cylinders</th>\n",
       "      <th>horsepower</th>\n",
       "      <th>body_condition</th>\n",
       "      <th>mechanical_condition</th>\n",
       "      <th>color_Beige</th>\n",
       "      <th>color_Black</th>\n",
       "      <th>color_Blue</th>\n",
       "      <th>...</th>\n",
       "      <th>body_type_Sports Car</th>\n",
       "      <th>body_type_Utility Truck</th>\n",
       "      <th>body_type_Van</th>\n",
       "      <th>body_type_Wagon</th>\n",
       "      <th>transmission_type_Automatic Transmission</th>\n",
       "      <th>transmission_type_Manual Transmission</th>\n",
       "      <th>fuel_type_Diesel</th>\n",
       "      <th>fuel_type_Electric</th>\n",
       "      <th>fuel_type_Gasoline</th>\n",
       "      <th>fuel_type_Hybrid</th>\n",
       "    </tr>\n",
       "  </thead>\n",
       "  <tbody>\n",
       "    <tr>\n",
       "      <th>0</th>\n",
       "      <td>26,000</td>\n",
       "      <td>2013.0</td>\n",
       "      <td>167390</td>\n",
       "      <td>6</td>\n",
       "      <td>-1</td>\n",
       "      <td>Perfect inside and out</td>\n",
       "      <td>Perfect inside and out</td>\n",
       "      <td>0</td>\n",
       "      <td>0</td>\n",
       "      <td>0</td>\n",
       "      <td>...</td>\n",
       "      <td>0</td>\n",
       "      <td>0</td>\n",
       "      <td>0</td>\n",
       "      <td>0</td>\n",
       "      <td>1</td>\n",
       "      <td>0</td>\n",
       "      <td>0</td>\n",
       "      <td>0</td>\n",
       "      <td>1</td>\n",
       "      <td>0</td>\n",
       "    </tr>\n",
       "  </tbody>\n",
       "</table>\n",
       "<p>1 rows × 43 columns</p>\n",
       "</div>"
      ],
      "text/plain": [
       "  price_in_aed    year  kilometers no_of_cylinders horsepower  \\\n",
       "0       26,000  2013.0      167390               6         -1   \n",
       "\n",
       "           body_condition    mechanical_condition  color_Beige  color_Black  \\\n",
       "0  Perfect inside and out  Perfect inside and out            0            0   \n",
       "\n",
       "   color_Blue  ...  body_type_Sports Car  body_type_Utility Truck  \\\n",
       "0           0  ...                     0                        0   \n",
       "\n",
       "   body_type_Van  body_type_Wagon  transmission_type_Automatic Transmission  \\\n",
       "0              0                0                                         1   \n",
       "\n",
       "   transmission_type_Manual Transmission  fuel_type_Diesel  \\\n",
       "0                                      0                 0   \n",
       "\n",
       "   fuel_type_Electric  fuel_type_Gasoline  fuel_type_Hybrid  \n",
       "0                   0                   1                 0  \n",
       "\n",
       "[1 rows x 43 columns]"
      ]
     },
     "execution_count": 48,
     "metadata": {},
     "output_type": "execute_result"
    }
   ],
   "source": [
    "encoded_df = pd.get_dummies(df, \n",
    "                            columns= ['color', 'body_type', 'transmission_type', 'fuel_type'], \n",
    "                            prefix=['color', 'body_type', 'transmission_type', 'fuel_type'])\n",
    "encoded_df.head(1)"
   ]
  },
  {
   "cell_type": "code",
   "execution_count": 49,
   "id": "dd257341",
   "metadata": {},
   "outputs": [
    {
     "data": {
      "text/html": [
       "<div>\n",
       "<style scoped>\n",
       "    .dataframe tbody tr th:only-of-type {\n",
       "        vertical-align: middle;\n",
       "    }\n",
       "\n",
       "    .dataframe tbody tr th {\n",
       "        vertical-align: top;\n",
       "    }\n",
       "\n",
       "    .dataframe thead th {\n",
       "        text-align: right;\n",
       "    }\n",
       "</style>\n",
       "<table border=\"1\" class=\"dataframe\">\n",
       "  <thead>\n",
       "    <tr style=\"text-align: right;\">\n",
       "      <th></th>\n",
       "      <th>price_in_aed</th>\n",
       "      <th>year</th>\n",
       "      <th>kilometers</th>\n",
       "      <th>no_of_cylinders</th>\n",
       "      <th>horsepower</th>\n",
       "      <th>body_condition</th>\n",
       "      <th>mechanical_condition</th>\n",
       "      <th>color_Beige</th>\n",
       "      <th>color_Black</th>\n",
       "      <th>color_Blue</th>\n",
       "      <th>...</th>\n",
       "      <th>body_type_Sports Car</th>\n",
       "      <th>body_type_Utility Truck</th>\n",
       "      <th>body_type_Van</th>\n",
       "      <th>body_type_Wagon</th>\n",
       "      <th>transmission_type_Automatic Transmission</th>\n",
       "      <th>transmission_type_Manual Transmission</th>\n",
       "      <th>fuel_type_Diesel</th>\n",
       "      <th>fuel_type_Electric</th>\n",
       "      <th>fuel_type_Gasoline</th>\n",
       "      <th>fuel_type_Hybrid</th>\n",
       "    </tr>\n",
       "  </thead>\n",
       "  <tbody>\n",
       "    <tr>\n",
       "      <th>0</th>\n",
       "      <td>26,000</td>\n",
       "      <td>2013.0</td>\n",
       "      <td>167390</td>\n",
       "      <td>6</td>\n",
       "      <td>-1</td>\n",
       "      <td>3</td>\n",
       "      <td>4</td>\n",
       "      <td>0</td>\n",
       "      <td>0</td>\n",
       "      <td>0</td>\n",
       "      <td>...</td>\n",
       "      <td>0</td>\n",
       "      <td>0</td>\n",
       "      <td>0</td>\n",
       "      <td>0</td>\n",
       "      <td>1</td>\n",
       "      <td>0</td>\n",
       "      <td>0</td>\n",
       "      <td>0</td>\n",
       "      <td>1</td>\n",
       "      <td>0</td>\n",
       "    </tr>\n",
       "  </tbody>\n",
       "</table>\n",
       "<p>1 rows × 43 columns</p>\n",
       "</div>"
      ],
      "text/plain": [
       "  price_in_aed    year  kilometers  no_of_cylinders  horsepower  \\\n",
       "0       26,000  2013.0      167390                6          -1   \n",
       "\n",
       "   body_condition  mechanical_condition  color_Beige  color_Black  color_Blue  \\\n",
       "0               3                     4            0            0           0   \n",
       "\n",
       "   ...  body_type_Sports Car  body_type_Utility Truck  body_type_Van  \\\n",
       "0  ...                     0                        0              0   \n",
       "\n",
       "   body_type_Wagon  transmission_type_Automatic Transmission  \\\n",
       "0                0                                         1   \n",
       "\n",
       "   transmission_type_Manual Transmission  fuel_type_Diesel  \\\n",
       "0                                      0                 0   \n",
       "\n",
       "   fuel_type_Electric  fuel_type_Gasoline  fuel_type_Hybrid  \n",
       "0                   0                   1                 0  \n",
       "\n",
       "[1 rows x 43 columns]"
      ]
     },
     "execution_count": 49,
     "metadata": {},
     "output_type": "execute_result"
    }
   ],
   "source": [
    "cylinder_map = {\n",
    "    'None': 0,\n",
    "    '3': 3,\n",
    "    '4': 4,\n",
    "    '5': 5,\n",
    "    '6': 6,\n",
    "    '8': 8,\n",
    "    '10': 10,\n",
    "    '12': 12\n",
    "    }\n",
    "horsepower_map = {\n",
    "    -1: -1,\n",
    "    'Less than 150 HP': 0, \n",
    "    '150 - 200 HP': 1,\n",
    "    '200 - 300 HP': 2,\n",
    "    '300 - 400 HP': 3,\n",
    "    '400 - 500 HP': 4,\n",
    "    '500 - 600 HP': 5,\n",
    "    '600 - 700 HP': 6,\n",
    "    '700 - 800 HP': 7,\n",
    "    '800 - 900 HP': 8,\n",
    "    '900+ HP': 9 \n",
    "    }\n",
    "body_map = {\n",
    "    'A bit of wear & tear, all repaired': 0,\n",
    "    'Normal wear & tear, a few issues': 1, \n",
    "    'No accidents, very few faults': 2,\n",
    "    'Perfect inside and out': 3\n",
    "    }\n",
    "mech_map = {\n",
    "    'Ongoing minor & major faults': 0,\n",
    "    'Major faults fixed, small remain': 1,\n",
    "    'Major faults, all fixed': 2,\n",
    "    'Minor faults, all fixed': 3,   \n",
    "    'Perfect inside and out': 4\n",
    "    }\n",
    "\n",
    "encoded_df['no_of_cylinders'] = df['no_of_cylinders'].map(cylinder_map)\n",
    "\n",
    "encoded_df['horsepower'] = df['horsepower'].map(horsepower_map)\n",
    "\n",
    "encoded_df['body_condition'] = df['body_condition'].map(body_map)\n",
    "\n",
    "encoded_df['mechanical_condition'] = df['mechanical_condition'].map(mech_map)\n",
    "\n",
    "encoded_df.head(1)"
   ]
  },
  {
   "cell_type": "markdown",
   "id": "374d879a",
   "metadata": {},
   "source": [
    "The next stage of cleaning will be converting data types and units.  This needs to be addressed in the following columns:\n",
    "\n",
    "- Data Type Conversion\n",
    "    - price_in_aed\n",
    "    - year\n",
    "    - no_of_cylinders\n",
    "    - horsepower\n",
    "- Unit Conversion\n",
    "    - price_in_aed\n",
    "    - kilometers"
   ]
  },
  {
   "cell_type": "code",
   "execution_count": 50,
   "id": "9c4de665",
   "metadata": {
    "scrolled": true
   },
   "outputs": [
    {
     "data": {
      "text/plain": [
       "price_in_aed                                 object\n",
       "year                                        float64\n",
       "kilometers                                    int64\n",
       "no_of_cylinders                               int64\n",
       "horsepower                                    int64\n",
       "body_condition                                int64\n",
       "mechanical_condition                          int64\n",
       "color_Beige                                   uint8\n",
       "color_Black                                   uint8\n",
       "color_Blue                                    uint8\n",
       "color_Brown                                   uint8\n",
       "color_Burgundy                                uint8\n",
       "color_Gold                                    uint8\n",
       "color_Green                                   uint8\n",
       "color_Grey                                    uint8\n",
       "color_Orange                                  uint8\n",
       "color_Other                                   uint8\n",
       "color_Purple                                  uint8\n",
       "color_Red                                     uint8\n",
       "color_Silver                                  uint8\n",
       "color_Tan                                     uint8\n",
       "color_Teal                                    uint8\n",
       "color_White                                   uint8\n",
       "color_Yellow                                  uint8\n",
       "body_type_Coupe                               uint8\n",
       "body_type_Crossover                           uint8\n",
       "body_type_Hard Top Convertible                uint8\n",
       "body_type_Hatchback                           uint8\n",
       "body_type_Other                               uint8\n",
       "body_type_Pick Up Truck                       uint8\n",
       "body_type_SUV                                 uint8\n",
       "body_type_Sedan                               uint8\n",
       "body_type_Soft Top Convertible                uint8\n",
       "body_type_Sports Car                          uint8\n",
       "body_type_Utility Truck                       uint8\n",
       "body_type_Van                                 uint8\n",
       "body_type_Wagon                               uint8\n",
       "transmission_type_Automatic Transmission      uint8\n",
       "transmission_type_Manual Transmission         uint8\n",
       "fuel_type_Diesel                              uint8\n",
       "fuel_type_Electric                            uint8\n",
       "fuel_type_Gasoline                            uint8\n",
       "fuel_type_Hybrid                              uint8\n",
       "dtype: object"
      ]
     },
     "execution_count": 50,
     "metadata": {},
     "output_type": "execute_result"
    }
   ],
   "source": [
    "encoded_df.dtypes"
   ]
  },
  {
   "cell_type": "code",
   "execution_count": 51,
   "id": "769eecfb",
   "metadata": {
    "scrolled": true
   },
   "outputs": [
    {
     "data": {
      "text/html": [
       "<div>\n",
       "<style scoped>\n",
       "    .dataframe tbody tr th:only-of-type {\n",
       "        vertical-align: middle;\n",
       "    }\n",
       "\n",
       "    .dataframe tbody tr th {\n",
       "        vertical-align: top;\n",
       "    }\n",
       "\n",
       "    .dataframe thead th {\n",
       "        text-align: right;\n",
       "    }\n",
       "</style>\n",
       "<table border=\"1\" class=\"dataframe\">\n",
       "  <thead>\n",
       "    <tr style=\"text-align: right;\">\n",
       "      <th></th>\n",
       "      <th>price_in_aed</th>\n",
       "      <th>year</th>\n",
       "      <th>kilometers</th>\n",
       "      <th>no_of_cylinders</th>\n",
       "      <th>horsepower</th>\n",
       "      <th>body_condition</th>\n",
       "      <th>mechanical_condition</th>\n",
       "      <th>color_Beige</th>\n",
       "      <th>color_Black</th>\n",
       "      <th>color_Blue</th>\n",
       "      <th>...</th>\n",
       "      <th>body_type_Van</th>\n",
       "      <th>body_type_Wagon</th>\n",
       "      <th>transmission_type_Automatic Transmission</th>\n",
       "      <th>transmission_type_Manual Transmission</th>\n",
       "      <th>fuel_type_Diesel</th>\n",
       "      <th>fuel_type_Electric</th>\n",
       "      <th>fuel_type_Gasoline</th>\n",
       "      <th>fuel_type_Hybrid</th>\n",
       "      <th>miles</th>\n",
       "      <th>price_usd</th>\n",
       "    </tr>\n",
       "  </thead>\n",
       "  <tbody>\n",
       "    <tr>\n",
       "      <th>0</th>\n",
       "      <td>26,000</td>\n",
       "      <td>2013</td>\n",
       "      <td>167390</td>\n",
       "      <td>6</td>\n",
       "      <td>-1</td>\n",
       "      <td>3</td>\n",
       "      <td>4</td>\n",
       "      <td>0</td>\n",
       "      <td>0</td>\n",
       "      <td>0</td>\n",
       "      <td>...</td>\n",
       "      <td>0</td>\n",
       "      <td>0</td>\n",
       "      <td>1</td>\n",
       "      <td>0</td>\n",
       "      <td>0</td>\n",
       "      <td>0</td>\n",
       "      <td>1</td>\n",
       "      <td>0</td>\n",
       "      <td>104011.29</td>\n",
       "      <td>7079.65</td>\n",
       "    </tr>\n",
       "  </tbody>\n",
       "</table>\n",
       "<p>1 rows × 45 columns</p>\n",
       "</div>"
      ],
      "text/plain": [
       "  price_in_aed  year  kilometers  no_of_cylinders  horsepower  body_condition  \\\n",
       "0       26,000  2013      167390                6          -1               3   \n",
       "\n",
       "   mechanical_condition  color_Beige  color_Black  color_Blue  ...  \\\n",
       "0                     4            0            0           0  ...   \n",
       "\n",
       "   body_type_Van  body_type_Wagon  transmission_type_Automatic Transmission  \\\n",
       "0              0                0                                         1   \n",
       "\n",
       "   transmission_type_Manual Transmission  fuel_type_Diesel  \\\n",
       "0                                      0                 0   \n",
       "\n",
       "   fuel_type_Electric  fuel_type_Gasoline  fuel_type_Hybrid      miles  \\\n",
       "0                   0                   1                 0  104011.29   \n",
       "\n",
       "   price_usd  \n",
       "0    7079.65  \n",
       "\n",
       "[1 rows x 45 columns]"
      ]
     },
     "execution_count": 51,
     "metadata": {},
     "output_type": "execute_result"
    }
   ],
   "source": [
    "encoded_df['year'] = encoded_df['year'].astype(int)\n",
    "\n",
    "encoded_df['no_of_cylinders'] = encoded_df['no_of_cylinders'].astype(int)\n",
    "\n",
    "encoded_df['horsepower'] = encoded_df['horsepower'].astype(int)\n",
    "\n",
    "encoded_df['miles'] = (encoded_df['kilometers'] * .621371).round(2)\n",
    "\n",
    "encoded_df['price_usd'] = (encoded_df['price_in_aed'].str.replace(',','').astype(float) * .27229408).round(2)\n",
    "\n",
    "encoded_df.head(1)"
   ]
  },
  {
   "cell_type": "code",
   "execution_count": 52,
   "id": "7b68d255",
   "metadata": {},
   "outputs": [
    {
     "data": {
      "text/html": [
       "<div>\n",
       "<style scoped>\n",
       "    .dataframe tbody tr th:only-of-type {\n",
       "        vertical-align: middle;\n",
       "    }\n",
       "\n",
       "    .dataframe tbody tr th {\n",
       "        vertical-align: top;\n",
       "    }\n",
       "\n",
       "    .dataframe thead th {\n",
       "        text-align: right;\n",
       "    }\n",
       "</style>\n",
       "<table border=\"1\" class=\"dataframe\">\n",
       "  <thead>\n",
       "    <tr style=\"text-align: right;\">\n",
       "      <th></th>\n",
       "      <th>year</th>\n",
       "      <th>no_of_cylinders</th>\n",
       "      <th>horsepower</th>\n",
       "      <th>body_condition</th>\n",
       "      <th>mechanical_condition</th>\n",
       "      <th>color_Beige</th>\n",
       "      <th>color_Black</th>\n",
       "      <th>color_Blue</th>\n",
       "      <th>color_Brown</th>\n",
       "      <th>color_Burgundy</th>\n",
       "      <th>...</th>\n",
       "      <th>body_type_Van</th>\n",
       "      <th>body_type_Wagon</th>\n",
       "      <th>transmission_type_Automatic Transmission</th>\n",
       "      <th>transmission_type_Manual Transmission</th>\n",
       "      <th>fuel_type_Diesel</th>\n",
       "      <th>fuel_type_Electric</th>\n",
       "      <th>fuel_type_Gasoline</th>\n",
       "      <th>fuel_type_Hybrid</th>\n",
       "      <th>miles</th>\n",
       "      <th>price_usd</th>\n",
       "    </tr>\n",
       "  </thead>\n",
       "  <tbody>\n",
       "    <tr>\n",
       "      <th>0</th>\n",
       "      <td>2013</td>\n",
       "      <td>6</td>\n",
       "      <td>-1</td>\n",
       "      <td>3</td>\n",
       "      <td>4</td>\n",
       "      <td>0</td>\n",
       "      <td>0</td>\n",
       "      <td>0</td>\n",
       "      <td>0</td>\n",
       "      <td>0</td>\n",
       "      <td>...</td>\n",
       "      <td>0</td>\n",
       "      <td>0</td>\n",
       "      <td>1</td>\n",
       "      <td>0</td>\n",
       "      <td>0</td>\n",
       "      <td>0</td>\n",
       "      <td>1</td>\n",
       "      <td>0</td>\n",
       "      <td>104011.29</td>\n",
       "      <td>7079.65</td>\n",
       "    </tr>\n",
       "  </tbody>\n",
       "</table>\n",
       "<p>1 rows × 43 columns</p>\n",
       "</div>"
      ],
      "text/plain": [
       "   year  no_of_cylinders  horsepower  body_condition  mechanical_condition  \\\n",
       "0  2013                6          -1               3                     4   \n",
       "\n",
       "   color_Beige  color_Black  color_Blue  color_Brown  color_Burgundy  ...  \\\n",
       "0            0            0           0            0               0  ...   \n",
       "\n",
       "   body_type_Van  body_type_Wagon  transmission_type_Automatic Transmission  \\\n",
       "0              0                0                                         1   \n",
       "\n",
       "   transmission_type_Manual Transmission  fuel_type_Diesel  \\\n",
       "0                                      0                 0   \n",
       "\n",
       "   fuel_type_Electric  fuel_type_Gasoline  fuel_type_Hybrid      miles  \\\n",
       "0                   0                   1                 0  104011.29   \n",
       "\n",
       "   price_usd  \n",
       "0    7079.65  \n",
       "\n",
       "[1 rows x 43 columns]"
      ]
     },
     "execution_count": 52,
     "metadata": {},
     "output_type": "execute_result"
    }
   ],
   "source": [
    "encoded_df.drop(['price_in_aed', 'kilometers'], axis=1, inplace=True)\n",
    "encoded_df.head(1)"
   ]
  },
  {
   "cell_type": "code",
   "execution_count": 53,
   "id": "ddc742d8",
   "metadata": {},
   "outputs": [
    {
     "data": {
      "text/plain": [
       "year                                          int32\n",
       "no_of_cylinders                               int32\n",
       "horsepower                                    int32\n",
       "body_condition                                int64\n",
       "mechanical_condition                          int64\n",
       "color_Beige                                   uint8\n",
       "color_Black                                   uint8\n",
       "color_Blue                                    uint8\n",
       "color_Brown                                   uint8\n",
       "color_Burgundy                                uint8\n",
       "color_Gold                                    uint8\n",
       "color_Green                                   uint8\n",
       "color_Grey                                    uint8\n",
       "color_Orange                                  uint8\n",
       "color_Other                                   uint8\n",
       "color_Purple                                  uint8\n",
       "color_Red                                     uint8\n",
       "color_Silver                                  uint8\n",
       "color_Tan                                     uint8\n",
       "color_Teal                                    uint8\n",
       "color_White                                   uint8\n",
       "color_Yellow                                  uint8\n",
       "body_type_Coupe                               uint8\n",
       "body_type_Crossover                           uint8\n",
       "body_type_Hard Top Convertible                uint8\n",
       "body_type_Hatchback                           uint8\n",
       "body_type_Other                               uint8\n",
       "body_type_Pick Up Truck                       uint8\n",
       "body_type_SUV                                 uint8\n",
       "body_type_Sedan                               uint8\n",
       "body_type_Soft Top Convertible                uint8\n",
       "body_type_Sports Car                          uint8\n",
       "body_type_Utility Truck                       uint8\n",
       "body_type_Van                                 uint8\n",
       "body_type_Wagon                               uint8\n",
       "transmission_type_Automatic Transmission      uint8\n",
       "transmission_type_Manual Transmission         uint8\n",
       "fuel_type_Diesel                              uint8\n",
       "fuel_type_Electric                            uint8\n",
       "fuel_type_Gasoline                            uint8\n",
       "fuel_type_Hybrid                              uint8\n",
       "miles                                       float64\n",
       "price_usd                                   float64\n",
       "dtype: object"
      ]
     },
     "execution_count": 53,
     "metadata": {},
     "output_type": "execute_result"
    }
   ],
   "source": [
    "encoded_df.dtypes"
   ]
  },
  {
   "cell_type": "code",
   "execution_count": 54,
   "id": "8c9e49e7",
   "metadata": {},
   "outputs": [
    {
     "data": {
      "text/plain": [
       "(9101, 43)"
      ]
     },
     "execution_count": 54,
     "metadata": {},
     "output_type": "execute_result"
    }
   ],
   "source": [
    "clean_df = encoded_df\n",
    "clean_df.shape"
   ]
  },
  {
   "cell_type": "markdown",
   "id": "d28bcf0a",
   "metadata": {},
   "source": [
    "The next step is to remove any outliers that may impact our model's performance."
   ]
  },
  {
   "cell_type": "code",
   "execution_count": 55,
   "id": "24886559",
   "metadata": {},
   "outputs": [
    {
     "data": {
      "text/html": [
       "<div>\n",
       "<style scoped>\n",
       "    .dataframe tbody tr th:only-of-type {\n",
       "        vertical-align: middle;\n",
       "    }\n",
       "\n",
       "    .dataframe tbody tr th {\n",
       "        vertical-align: top;\n",
       "    }\n",
       "\n",
       "    .dataframe thead th {\n",
       "        text-align: right;\n",
       "    }\n",
       "</style>\n",
       "<table border=\"1\" class=\"dataframe\">\n",
       "  <thead>\n",
       "    <tr style=\"text-align: right;\">\n",
       "      <th></th>\n",
       "      <th>year</th>\n",
       "      <th>no_of_cylinders</th>\n",
       "      <th>horsepower</th>\n",
       "      <th>body_condition</th>\n",
       "      <th>mechanical_condition</th>\n",
       "      <th>color_Beige</th>\n",
       "      <th>color_Black</th>\n",
       "      <th>color_Blue</th>\n",
       "      <th>color_Brown</th>\n",
       "      <th>color_Burgundy</th>\n",
       "      <th>...</th>\n",
       "      <th>body_type_Van</th>\n",
       "      <th>body_type_Wagon</th>\n",
       "      <th>transmission_type_Automatic Transmission</th>\n",
       "      <th>transmission_type_Manual Transmission</th>\n",
       "      <th>fuel_type_Diesel</th>\n",
       "      <th>fuel_type_Electric</th>\n",
       "      <th>fuel_type_Gasoline</th>\n",
       "      <th>fuel_type_Hybrid</th>\n",
       "      <th>miles</th>\n",
       "      <th>price_usd</th>\n",
       "    </tr>\n",
       "  </thead>\n",
       "  <tbody>\n",
       "    <tr>\n",
       "      <th>1352</th>\n",
       "      <td>2006</td>\n",
       "      <td>8</td>\n",
       "      <td>4</td>\n",
       "      <td>3</td>\n",
       "      <td>4</td>\n",
       "      <td>0</td>\n",
       "      <td>0</td>\n",
       "      <td>0</td>\n",
       "      <td>0</td>\n",
       "      <td>0</td>\n",
       "      <td>...</td>\n",
       "      <td>0</td>\n",
       "      <td>0</td>\n",
       "      <td>1</td>\n",
       "      <td>0</td>\n",
       "      <td>0</td>\n",
       "      <td>0</td>\n",
       "      <td>1</td>\n",
       "      <td>0</td>\n",
       "      <td>71457665.0</td>\n",
       "      <td>30496.94</td>\n",
       "    </tr>\n",
       "  </tbody>\n",
       "</table>\n",
       "<p>1 rows × 43 columns</p>\n",
       "</div>"
      ],
      "text/plain": [
       "      year  no_of_cylinders  horsepower  body_condition  mechanical_condition  \\\n",
       "1352  2006                8           4               3                     4   \n",
       "\n",
       "      color_Beige  color_Black  color_Blue  color_Brown  color_Burgundy  ...  \\\n",
       "1352            0            0           0            0               0  ...   \n",
       "\n",
       "      body_type_Van  body_type_Wagon  \\\n",
       "1352              0                0   \n",
       "\n",
       "      transmission_type_Automatic Transmission  \\\n",
       "1352                                         1   \n",
       "\n",
       "      transmission_type_Manual Transmission  fuel_type_Diesel  \\\n",
       "1352                                      0                 0   \n",
       "\n",
       "      fuel_type_Electric  fuel_type_Gasoline  fuel_type_Hybrid       miles  \\\n",
       "1352                   0                   1                 0  71457665.0   \n",
       "\n",
       "      price_usd  \n",
       "1352   30496.94  \n",
       "\n",
       "[1 rows x 43 columns]"
      ]
     },
     "execution_count": 55,
     "metadata": {},
     "output_type": "execute_result"
    }
   ],
   "source": [
    "z_scores = zscore(clean_df['miles'])\n",
    "mile_outliers = (z_scores > 3) | (z_scores < -3)\n",
    "clean_df[mile_outliers]"
   ]
  },
  {
   "cell_type": "code",
   "execution_count": 56,
   "id": "28dacff3",
   "metadata": {},
   "outputs": [
    {
     "data": {
      "text/plain": [
       "(9100, 43)"
      ]
     },
     "execution_count": 56,
     "metadata": {},
     "output_type": "execute_result"
    }
   ],
   "source": [
    "clean_df = clean_df[~mile_outliers]\n",
    "clean_df.shape"
   ]
  },
  {
   "cell_type": "code",
   "execution_count": 57,
   "id": "0cb8d75c",
   "metadata": {
    "scrolled": true
   },
   "outputs": [
    {
     "data": {
      "text/html": [
       "<div>\n",
       "<style scoped>\n",
       "    .dataframe tbody tr th:only-of-type {\n",
       "        vertical-align: middle;\n",
       "    }\n",
       "\n",
       "    .dataframe tbody tr th {\n",
       "        vertical-align: top;\n",
       "    }\n",
       "\n",
       "    .dataframe thead th {\n",
       "        text-align: right;\n",
       "    }\n",
       "</style>\n",
       "<table border=\"1\" class=\"dataframe\">\n",
       "  <thead>\n",
       "    <tr style=\"text-align: right;\">\n",
       "      <th></th>\n",
       "      <th>year</th>\n",
       "      <th>no_of_cylinders</th>\n",
       "      <th>horsepower</th>\n",
       "      <th>body_condition</th>\n",
       "      <th>mechanical_condition</th>\n",
       "      <th>color_Beige</th>\n",
       "      <th>color_Black</th>\n",
       "      <th>color_Blue</th>\n",
       "      <th>color_Brown</th>\n",
       "      <th>color_Burgundy</th>\n",
       "      <th>...</th>\n",
       "      <th>body_type_Van</th>\n",
       "      <th>body_type_Wagon</th>\n",
       "      <th>transmission_type_Automatic Transmission</th>\n",
       "      <th>transmission_type_Manual Transmission</th>\n",
       "      <th>fuel_type_Diesel</th>\n",
       "      <th>fuel_type_Electric</th>\n",
       "      <th>fuel_type_Gasoline</th>\n",
       "      <th>fuel_type_Hybrid</th>\n",
       "      <th>miles</th>\n",
       "      <th>price_usd</th>\n",
       "    </tr>\n",
       "  </thead>\n",
       "  <tbody>\n",
       "    <tr>\n",
       "      <th>86</th>\n",
       "      <td>2021</td>\n",
       "      <td>12</td>\n",
       "      <td>6</td>\n",
       "      <td>3</td>\n",
       "      <td>4</td>\n",
       "      <td>0</td>\n",
       "      <td>0</td>\n",
       "      <td>0</td>\n",
       "      <td>0</td>\n",
       "      <td>0</td>\n",
       "      <td>...</td>\n",
       "      <td>0</td>\n",
       "      <td>0</td>\n",
       "      <td>1</td>\n",
       "      <td>0</td>\n",
       "      <td>0</td>\n",
       "      <td>0</td>\n",
       "      <td>1</td>\n",
       "      <td>0</td>\n",
       "      <td>1496.26</td>\n",
       "      <td>514635.81</td>\n",
       "    </tr>\n",
       "    <tr>\n",
       "      <th>98</th>\n",
       "      <td>2019</td>\n",
       "      <td>12</td>\n",
       "      <td>5</td>\n",
       "      <td>3</td>\n",
       "      <td>4</td>\n",
       "      <td>0</td>\n",
       "      <td>0</td>\n",
       "      <td>0</td>\n",
       "      <td>0</td>\n",
       "      <td>0</td>\n",
       "      <td>...</td>\n",
       "      <td>0</td>\n",
       "      <td>0</td>\n",
       "      <td>1</td>\n",
       "      <td>0</td>\n",
       "      <td>0</td>\n",
       "      <td>0</td>\n",
       "      <td>1</td>\n",
       "      <td>0</td>\n",
       "      <td>621.37</td>\n",
       "      <td>530973.46</td>\n",
       "    </tr>\n",
       "    <tr>\n",
       "      <th>170</th>\n",
       "      <td>2021</td>\n",
       "      <td>12</td>\n",
       "      <td>6</td>\n",
       "      <td>3</td>\n",
       "      <td>4</td>\n",
       "      <td>0</td>\n",
       "      <td>1</td>\n",
       "      <td>0</td>\n",
       "      <td>0</td>\n",
       "      <td>0</td>\n",
       "      <td>...</td>\n",
       "      <td>0</td>\n",
       "      <td>0</td>\n",
       "      <td>0</td>\n",
       "      <td>1</td>\n",
       "      <td>0</td>\n",
       "      <td>0</td>\n",
       "      <td>1</td>\n",
       "      <td>0</td>\n",
       "      <td>8154.25</td>\n",
       "      <td>653233.50</td>\n",
       "    </tr>\n",
       "    <tr>\n",
       "      <th>237</th>\n",
       "      <td>2021</td>\n",
       "      <td>12</td>\n",
       "      <td>6</td>\n",
       "      <td>3</td>\n",
       "      <td>4</td>\n",
       "      <td>0</td>\n",
       "      <td>0</td>\n",
       "      <td>0</td>\n",
       "      <td>0</td>\n",
       "      <td>0</td>\n",
       "      <td>...</td>\n",
       "      <td>0</td>\n",
       "      <td>0</td>\n",
       "      <td>1</td>\n",
       "      <td>0</td>\n",
       "      <td>0</td>\n",
       "      <td>0</td>\n",
       "      <td>1</td>\n",
       "      <td>0</td>\n",
       "      <td>372.82</td>\n",
       "      <td>612117.09</td>\n",
       "    </tr>\n",
       "    <tr>\n",
       "      <th>280</th>\n",
       "      <td>2021</td>\n",
       "      <td>12</td>\n",
       "      <td>6</td>\n",
       "      <td>3</td>\n",
       "      <td>4</td>\n",
       "      <td>0</td>\n",
       "      <td>1</td>\n",
       "      <td>0</td>\n",
       "      <td>0</td>\n",
       "      <td>0</td>\n",
       "      <td>...</td>\n",
       "      <td>0</td>\n",
       "      <td>0</td>\n",
       "      <td>1</td>\n",
       "      <td>0</td>\n",
       "      <td>0</td>\n",
       "      <td>0</td>\n",
       "      <td>1</td>\n",
       "      <td>0</td>\n",
       "      <td>6213.71</td>\n",
       "      <td>645336.97</td>\n",
       "    </tr>\n",
       "    <tr>\n",
       "      <th>...</th>\n",
       "      <td>...</td>\n",
       "      <td>...</td>\n",
       "      <td>...</td>\n",
       "      <td>...</td>\n",
       "      <td>...</td>\n",
       "      <td>...</td>\n",
       "      <td>...</td>\n",
       "      <td>...</td>\n",
       "      <td>...</td>\n",
       "      <td>...</td>\n",
       "      <td>...</td>\n",
       "      <td>...</td>\n",
       "      <td>...</td>\n",
       "      <td>...</td>\n",
       "      <td>...</td>\n",
       "      <td>...</td>\n",
       "      <td>...</td>\n",
       "      <td>...</td>\n",
       "      <td>...</td>\n",
       "      <td>...</td>\n",
       "      <td>...</td>\n",
       "    </tr>\n",
       "    <tr>\n",
       "      <th>9810</th>\n",
       "      <td>2016</td>\n",
       "      <td>12</td>\n",
       "      <td>5</td>\n",
       "      <td>3</td>\n",
       "      <td>4</td>\n",
       "      <td>0</td>\n",
       "      <td>0</td>\n",
       "      <td>0</td>\n",
       "      <td>0</td>\n",
       "      <td>0</td>\n",
       "      <td>...</td>\n",
       "      <td>0</td>\n",
       "      <td>0</td>\n",
       "      <td>1</td>\n",
       "      <td>0</td>\n",
       "      <td>0</td>\n",
       "      <td>0</td>\n",
       "      <td>1</td>\n",
       "      <td>0</td>\n",
       "      <td>621.37</td>\n",
       "      <td>721307.02</td>\n",
       "    </tr>\n",
       "    <tr>\n",
       "      <th>9838</th>\n",
       "      <td>2021</td>\n",
       "      <td>8</td>\n",
       "      <td>8</td>\n",
       "      <td>3</td>\n",
       "      <td>4</td>\n",
       "      <td>0</td>\n",
       "      <td>0</td>\n",
       "      <td>0</td>\n",
       "      <td>0</td>\n",
       "      <td>0</td>\n",
       "      <td>...</td>\n",
       "      <td>0</td>\n",
       "      <td>0</td>\n",
       "      <td>1</td>\n",
       "      <td>0</td>\n",
       "      <td>0</td>\n",
       "      <td>0</td>\n",
       "      <td>1</td>\n",
       "      <td>0</td>\n",
       "      <td>198.22</td>\n",
       "      <td>1007215.80</td>\n",
       "    </tr>\n",
       "    <tr>\n",
       "      <th>9861</th>\n",
       "      <td>2021</td>\n",
       "      <td>12</td>\n",
       "      <td>5</td>\n",
       "      <td>3</td>\n",
       "      <td>4</td>\n",
       "      <td>0</td>\n",
       "      <td>0</td>\n",
       "      <td>0</td>\n",
       "      <td>0</td>\n",
       "      <td>0</td>\n",
       "      <td>...</td>\n",
       "      <td>0</td>\n",
       "      <td>0</td>\n",
       "      <td>1</td>\n",
       "      <td>0</td>\n",
       "      <td>0</td>\n",
       "      <td>0</td>\n",
       "      <td>1</td>\n",
       "      <td>0</td>\n",
       "      <td>628.21</td>\n",
       "      <td>694077.61</td>\n",
       "    </tr>\n",
       "    <tr>\n",
       "      <th>9909</th>\n",
       "      <td>2016</td>\n",
       "      <td>12</td>\n",
       "      <td>5</td>\n",
       "      <td>3</td>\n",
       "      <td>4</td>\n",
       "      <td>0</td>\n",
       "      <td>0</td>\n",
       "      <td>0</td>\n",
       "      <td>0</td>\n",
       "      <td>0</td>\n",
       "      <td>...</td>\n",
       "      <td>0</td>\n",
       "      <td>0</td>\n",
       "      <td>1</td>\n",
       "      <td>0</td>\n",
       "      <td>0</td>\n",
       "      <td>0</td>\n",
       "      <td>1</td>\n",
       "      <td>0</td>\n",
       "      <td>62.14</td>\n",
       "      <td>596324.04</td>\n",
       "    </tr>\n",
       "    <tr>\n",
       "      <th>9961</th>\n",
       "      <td>2016</td>\n",
       "      <td>10</td>\n",
       "      <td>6</td>\n",
       "      <td>3</td>\n",
       "      <td>4</td>\n",
       "      <td>0</td>\n",
       "      <td>0</td>\n",
       "      <td>0</td>\n",
       "      <td>0</td>\n",
       "      <td>0</td>\n",
       "      <td>...</td>\n",
       "      <td>0</td>\n",
       "      <td>0</td>\n",
       "      <td>1</td>\n",
       "      <td>0</td>\n",
       "      <td>0</td>\n",
       "      <td>0</td>\n",
       "      <td>1</td>\n",
       "      <td>0</td>\n",
       "      <td>202.57</td>\n",
       "      <td>408168.83</td>\n",
       "    </tr>\n",
       "  </tbody>\n",
       "</table>\n",
       "<p>199 rows × 43 columns</p>\n",
       "</div>"
      ],
      "text/plain": [
       "      year  no_of_cylinders  horsepower  body_condition  mechanical_condition  \\\n",
       "86    2021               12           6               3                     4   \n",
       "98    2019               12           5               3                     4   \n",
       "170   2021               12           6               3                     4   \n",
       "237   2021               12           6               3                     4   \n",
       "280   2021               12           6               3                     4   \n",
       "...    ...              ...         ...             ...                   ...   \n",
       "9810  2016               12           5               3                     4   \n",
       "9838  2021                8           8               3                     4   \n",
       "9861  2021               12           5               3                     4   \n",
       "9909  2016               12           5               3                     4   \n",
       "9961  2016               10           6               3                     4   \n",
       "\n",
       "      color_Beige  color_Black  color_Blue  color_Brown  color_Burgundy  ...  \\\n",
       "86              0            0           0            0               0  ...   \n",
       "98              0            0           0            0               0  ...   \n",
       "170             0            1           0            0               0  ...   \n",
       "237             0            0           0            0               0  ...   \n",
       "280             0            1           0            0               0  ...   \n",
       "...           ...          ...         ...          ...             ...  ...   \n",
       "9810            0            0           0            0               0  ...   \n",
       "9838            0            0           0            0               0  ...   \n",
       "9861            0            0           0            0               0  ...   \n",
       "9909            0            0           0            0               0  ...   \n",
       "9961            0            0           0            0               0  ...   \n",
       "\n",
       "      body_type_Van  body_type_Wagon  \\\n",
       "86                0                0   \n",
       "98                0                0   \n",
       "170               0                0   \n",
       "237               0                0   \n",
       "280               0                0   \n",
       "...             ...              ...   \n",
       "9810              0                0   \n",
       "9838              0                0   \n",
       "9861              0                0   \n",
       "9909              0                0   \n",
       "9961              0                0   \n",
       "\n",
       "      transmission_type_Automatic Transmission  \\\n",
       "86                                           1   \n",
       "98                                           1   \n",
       "170                                          0   \n",
       "237                                          1   \n",
       "280                                          1   \n",
       "...                                        ...   \n",
       "9810                                         1   \n",
       "9838                                         1   \n",
       "9861                                         1   \n",
       "9909                                         1   \n",
       "9961                                         1   \n",
       "\n",
       "      transmission_type_Manual Transmission  fuel_type_Diesel  \\\n",
       "86                                        0                 0   \n",
       "98                                        0                 0   \n",
       "170                                       1                 0   \n",
       "237                                       0                 0   \n",
       "280                                       0                 0   \n",
       "...                                     ...               ...   \n",
       "9810                                      0                 0   \n",
       "9838                                      0                 0   \n",
       "9861                                      0                 0   \n",
       "9909                                      0                 0   \n",
       "9961                                      0                 0   \n",
       "\n",
       "      fuel_type_Electric  fuel_type_Gasoline  fuel_type_Hybrid    miles  \\\n",
       "86                     0                   1                 0  1496.26   \n",
       "98                     0                   1                 0   621.37   \n",
       "170                    0                   1                 0  8154.25   \n",
       "237                    0                   1                 0   372.82   \n",
       "280                    0                   1                 0  6213.71   \n",
       "...                  ...                 ...               ...      ...   \n",
       "9810                   0                   1                 0   621.37   \n",
       "9838                   0                   1                 0   198.22   \n",
       "9861                   0                   1                 0   628.21   \n",
       "9909                   0                   1                 0    62.14   \n",
       "9961                   0                   1                 0   202.57   \n",
       "\n",
       "       price_usd  \n",
       "86     514635.81  \n",
       "98     530973.46  \n",
       "170    653233.50  \n",
       "237    612117.09  \n",
       "280    645336.97  \n",
       "...          ...  \n",
       "9810   721307.02  \n",
       "9838  1007215.80  \n",
       "9861   694077.61  \n",
       "9909   596324.04  \n",
       "9961   408168.83  \n",
       "\n",
       "[199 rows x 43 columns]"
      ]
     },
     "execution_count": 57,
     "metadata": {},
     "output_type": "execute_result"
    }
   ],
   "source": [
    "z_scores = zscore(clean_df['price_usd'])\n",
    "price_outliers = (z_scores > 3) | (z_scores < -3)\n",
    "clean_df[price_outliers]"
   ]
  },
  {
   "cell_type": "code",
   "execution_count": 58,
   "id": "a7a7a658",
   "metadata": {},
   "outputs": [
    {
     "data": {
      "text/plain": [
       "(8901, 43)"
      ]
     },
     "execution_count": 58,
     "metadata": {},
     "output_type": "execute_result"
    }
   ],
   "source": [
    "clean_df = clean_df[~price_outliers]\n",
    "clean_df.shape"
   ]
  },
  {
   "cell_type": "code",
   "execution_count": 59,
   "id": "4210d839",
   "metadata": {},
   "outputs": [
    {
     "data": {
      "text/html": [
       "<div>\n",
       "<style scoped>\n",
       "    .dataframe tbody tr th:only-of-type {\n",
       "        vertical-align: middle;\n",
       "    }\n",
       "\n",
       "    .dataframe tbody tr th {\n",
       "        vertical-align: top;\n",
       "    }\n",
       "\n",
       "    .dataframe thead th {\n",
       "        text-align: right;\n",
       "    }\n",
       "</style>\n",
       "<table border=\"1\" class=\"dataframe\">\n",
       "  <thead>\n",
       "    <tr style=\"text-align: right;\">\n",
       "      <th></th>\n",
       "      <th>year</th>\n",
       "      <th>no_of_cylinders</th>\n",
       "      <th>horsepower</th>\n",
       "      <th>body_condition</th>\n",
       "      <th>mechanical_condition</th>\n",
       "      <th>color_Beige</th>\n",
       "      <th>color_Black</th>\n",
       "      <th>color_Blue</th>\n",
       "      <th>color_Brown</th>\n",
       "      <th>color_Burgundy</th>\n",
       "      <th>...</th>\n",
       "      <th>body_type_Van</th>\n",
       "      <th>body_type_Wagon</th>\n",
       "      <th>transmission_type_Automatic Transmission</th>\n",
       "      <th>transmission_type_Manual Transmission</th>\n",
       "      <th>fuel_type_Diesel</th>\n",
       "      <th>fuel_type_Electric</th>\n",
       "      <th>fuel_type_Gasoline</th>\n",
       "      <th>fuel_type_Hybrid</th>\n",
       "      <th>miles</th>\n",
       "      <th>price_usd</th>\n",
       "    </tr>\n",
       "  </thead>\n",
       "  <tbody>\n",
       "    <tr>\n",
       "      <th>4338</th>\n",
       "      <td>1953</td>\n",
       "      <td>8</td>\n",
       "      <td>2</td>\n",
       "      <td>3</td>\n",
       "      <td>4</td>\n",
       "      <td>0</td>\n",
       "      <td>0</td>\n",
       "      <td>0</td>\n",
       "      <td>0</td>\n",
       "      <td>0</td>\n",
       "      <td>...</td>\n",
       "      <td>0</td>\n",
       "      <td>0</td>\n",
       "      <td>1</td>\n",
       "      <td>0</td>\n",
       "      <td>0</td>\n",
       "      <td>0</td>\n",
       "      <td>1</td>\n",
       "      <td>0</td>\n",
       "      <td>994.19</td>\n",
       "      <td>25867.94</td>\n",
       "    </tr>\n",
       "    <tr>\n",
       "      <th>1344</th>\n",
       "      <td>1954</td>\n",
       "      <td>6</td>\n",
       "      <td>2</td>\n",
       "      <td>3</td>\n",
       "      <td>4</td>\n",
       "      <td>0</td>\n",
       "      <td>1</td>\n",
       "      <td>0</td>\n",
       "      <td>0</td>\n",
       "      <td>0</td>\n",
       "      <td>...</td>\n",
       "      <td>0</td>\n",
       "      <td>0</td>\n",
       "      <td>1</td>\n",
       "      <td>0</td>\n",
       "      <td>0</td>\n",
       "      <td>0</td>\n",
       "      <td>1</td>\n",
       "      <td>0</td>\n",
       "      <td>50974.79</td>\n",
       "      <td>62627.37</td>\n",
       "    </tr>\n",
       "    <tr>\n",
       "      <th>152</th>\n",
       "      <td>1960</td>\n",
       "      <td>8</td>\n",
       "      <td>2</td>\n",
       "      <td>3</td>\n",
       "      <td>4</td>\n",
       "      <td>0</td>\n",
       "      <td>1</td>\n",
       "      <td>0</td>\n",
       "      <td>0</td>\n",
       "      <td>0</td>\n",
       "      <td>...</td>\n",
       "      <td>0</td>\n",
       "      <td>0</td>\n",
       "      <td>0</td>\n",
       "      <td>1</td>\n",
       "      <td>0</td>\n",
       "      <td>0</td>\n",
       "      <td>1</td>\n",
       "      <td>0</td>\n",
       "      <td>310.69</td>\n",
       "      <td>95302.93</td>\n",
       "    </tr>\n",
       "    <tr>\n",
       "      <th>9412</th>\n",
       "      <td>1964</td>\n",
       "      <td>8</td>\n",
       "      <td>3</td>\n",
       "      <td>3</td>\n",
       "      <td>4</td>\n",
       "      <td>0</td>\n",
       "      <td>0</td>\n",
       "      <td>1</td>\n",
       "      <td>0</td>\n",
       "      <td>0</td>\n",
       "      <td>...</td>\n",
       "      <td>0</td>\n",
       "      <td>0</td>\n",
       "      <td>1</td>\n",
       "      <td>0</td>\n",
       "      <td>0</td>\n",
       "      <td>0</td>\n",
       "      <td>1</td>\n",
       "      <td>0</td>\n",
       "      <td>17504.64</td>\n",
       "      <td>25867.94</td>\n",
       "    </tr>\n",
       "    <tr>\n",
       "      <th>2280</th>\n",
       "      <td>1964</td>\n",
       "      <td>4</td>\n",
       "      <td>-1</td>\n",
       "      <td>3</td>\n",
       "      <td>4</td>\n",
       "      <td>0</td>\n",
       "      <td>0</td>\n",
       "      <td>0</td>\n",
       "      <td>0</td>\n",
       "      <td>0</td>\n",
       "      <td>...</td>\n",
       "      <td>0</td>\n",
       "      <td>0</td>\n",
       "      <td>0</td>\n",
       "      <td>1</td>\n",
       "      <td>0</td>\n",
       "      <td>0</td>\n",
       "      <td>1</td>\n",
       "      <td>0</td>\n",
       "      <td>49709.68</td>\n",
       "      <td>21510.96</td>\n",
       "    </tr>\n",
       "    <tr>\n",
       "      <th>...</th>\n",
       "      <td>...</td>\n",
       "      <td>...</td>\n",
       "      <td>...</td>\n",
       "      <td>...</td>\n",
       "      <td>...</td>\n",
       "      <td>...</td>\n",
       "      <td>...</td>\n",
       "      <td>...</td>\n",
       "      <td>...</td>\n",
       "      <td>...</td>\n",
       "      <td>...</td>\n",
       "      <td>...</td>\n",
       "      <td>...</td>\n",
       "      <td>...</td>\n",
       "      <td>...</td>\n",
       "      <td>...</td>\n",
       "      <td>...</td>\n",
       "      <td>...</td>\n",
       "      <td>...</td>\n",
       "      <td>...</td>\n",
       "      <td>...</td>\n",
       "    </tr>\n",
       "    <tr>\n",
       "      <th>2663</th>\n",
       "      <td>2001</td>\n",
       "      <td>8</td>\n",
       "      <td>3</td>\n",
       "      <td>3</td>\n",
       "      <td>4</td>\n",
       "      <td>0</td>\n",
       "      <td>0</td>\n",
       "      <td>0</td>\n",
       "      <td>0</td>\n",
       "      <td>0</td>\n",
       "      <td>...</td>\n",
       "      <td>0</td>\n",
       "      <td>0</td>\n",
       "      <td>0</td>\n",
       "      <td>1</td>\n",
       "      <td>0</td>\n",
       "      <td>0</td>\n",
       "      <td>1</td>\n",
       "      <td>0</td>\n",
       "      <td>34307.76</td>\n",
       "      <td>190333.56</td>\n",
       "    </tr>\n",
       "    <tr>\n",
       "      <th>2623</th>\n",
       "      <td>2001</td>\n",
       "      <td>8</td>\n",
       "      <td>4</td>\n",
       "      <td>3</td>\n",
       "      <td>4</td>\n",
       "      <td>0</td>\n",
       "      <td>1</td>\n",
       "      <td>0</td>\n",
       "      <td>0</td>\n",
       "      <td>0</td>\n",
       "      <td>...</td>\n",
       "      <td>0</td>\n",
       "      <td>0</td>\n",
       "      <td>1</td>\n",
       "      <td>0</td>\n",
       "      <td>0</td>\n",
       "      <td>0</td>\n",
       "      <td>1</td>\n",
       "      <td>0</td>\n",
       "      <td>108118.55</td>\n",
       "      <td>4765.15</td>\n",
       "    </tr>\n",
       "    <tr>\n",
       "      <th>1466</th>\n",
       "      <td>2001</td>\n",
       "      <td>8</td>\n",
       "      <td>3</td>\n",
       "      <td>3</td>\n",
       "      <td>4</td>\n",
       "      <td>0</td>\n",
       "      <td>1</td>\n",
       "      <td>0</td>\n",
       "      <td>0</td>\n",
       "      <td>0</td>\n",
       "      <td>...</td>\n",
       "      <td>0</td>\n",
       "      <td>0</td>\n",
       "      <td>1</td>\n",
       "      <td>0</td>\n",
       "      <td>0</td>\n",
       "      <td>0</td>\n",
       "      <td>1</td>\n",
       "      <td>0</td>\n",
       "      <td>99419.36</td>\n",
       "      <td>15738.60</td>\n",
       "    </tr>\n",
       "    <tr>\n",
       "      <th>7993</th>\n",
       "      <td>2001</td>\n",
       "      <td>8</td>\n",
       "      <td>3</td>\n",
       "      <td>3</td>\n",
       "      <td>4</td>\n",
       "      <td>0</td>\n",
       "      <td>0</td>\n",
       "      <td>1</td>\n",
       "      <td>0</td>\n",
       "      <td>0</td>\n",
       "      <td>...</td>\n",
       "      <td>0</td>\n",
       "      <td>0</td>\n",
       "      <td>1</td>\n",
       "      <td>0</td>\n",
       "      <td>0</td>\n",
       "      <td>0</td>\n",
       "      <td>1</td>\n",
       "      <td>0</td>\n",
       "      <td>49709.68</td>\n",
       "      <td>5445.88</td>\n",
       "    </tr>\n",
       "    <tr>\n",
       "      <th>9944</th>\n",
       "      <td>2001</td>\n",
       "      <td>8</td>\n",
       "      <td>3</td>\n",
       "      <td>3</td>\n",
       "      <td>4</td>\n",
       "      <td>0</td>\n",
       "      <td>0</td>\n",
       "      <td>1</td>\n",
       "      <td>0</td>\n",
       "      <td>0</td>\n",
       "      <td>...</td>\n",
       "      <td>0</td>\n",
       "      <td>0</td>\n",
       "      <td>1</td>\n",
       "      <td>0</td>\n",
       "      <td>0</td>\n",
       "      <td>0</td>\n",
       "      <td>1</td>\n",
       "      <td>0</td>\n",
       "      <td>24647.92</td>\n",
       "      <td>6807.08</td>\n",
       "    </tr>\n",
       "  </tbody>\n",
       "</table>\n",
       "<p>90 rows × 43 columns</p>\n",
       "</div>"
      ],
      "text/plain": [
       "      year  no_of_cylinders  horsepower  body_condition  mechanical_condition  \\\n",
       "4338  1953                8           2               3                     4   \n",
       "1344  1954                6           2               3                     4   \n",
       "152   1960                8           2               3                     4   \n",
       "9412  1964                8           3               3                     4   \n",
       "2280  1964                4          -1               3                     4   \n",
       "...    ...              ...         ...             ...                   ...   \n",
       "2663  2001                8           3               3                     4   \n",
       "2623  2001                8           4               3                     4   \n",
       "1466  2001                8           3               3                     4   \n",
       "7993  2001                8           3               3                     4   \n",
       "9944  2001                8           3               3                     4   \n",
       "\n",
       "      color_Beige  color_Black  color_Blue  color_Brown  color_Burgundy  ...  \\\n",
       "4338            0            0           0            0               0  ...   \n",
       "1344            0            1           0            0               0  ...   \n",
       "152             0            1           0            0               0  ...   \n",
       "9412            0            0           1            0               0  ...   \n",
       "2280            0            0           0            0               0  ...   \n",
       "...           ...          ...         ...          ...             ...  ...   \n",
       "2663            0            0           0            0               0  ...   \n",
       "2623            0            1           0            0               0  ...   \n",
       "1466            0            1           0            0               0  ...   \n",
       "7993            0            0           1            0               0  ...   \n",
       "9944            0            0           1            0               0  ...   \n",
       "\n",
       "      body_type_Van  body_type_Wagon  \\\n",
       "4338              0                0   \n",
       "1344              0                0   \n",
       "152               0                0   \n",
       "9412              0                0   \n",
       "2280              0                0   \n",
       "...             ...              ...   \n",
       "2663              0                0   \n",
       "2623              0                0   \n",
       "1466              0                0   \n",
       "7993              0                0   \n",
       "9944              0                0   \n",
       "\n",
       "      transmission_type_Automatic Transmission  \\\n",
       "4338                                         1   \n",
       "1344                                         1   \n",
       "152                                          0   \n",
       "9412                                         1   \n",
       "2280                                         0   \n",
       "...                                        ...   \n",
       "2663                                         0   \n",
       "2623                                         1   \n",
       "1466                                         1   \n",
       "7993                                         1   \n",
       "9944                                         1   \n",
       "\n",
       "      transmission_type_Manual Transmission  fuel_type_Diesel  \\\n",
       "4338                                      0                 0   \n",
       "1344                                      0                 0   \n",
       "152                                       1                 0   \n",
       "9412                                      0                 0   \n",
       "2280                                      1                 0   \n",
       "...                                     ...               ...   \n",
       "2663                                      1                 0   \n",
       "2623                                      0                 0   \n",
       "1466                                      0                 0   \n",
       "7993                                      0                 0   \n",
       "9944                                      0                 0   \n",
       "\n",
       "      fuel_type_Electric  fuel_type_Gasoline  fuel_type_Hybrid      miles  \\\n",
       "4338                   0                   1                 0     994.19   \n",
       "1344                   0                   1                 0   50974.79   \n",
       "152                    0                   1                 0     310.69   \n",
       "9412                   0                   1                 0   17504.64   \n",
       "2280                   0                   1                 0   49709.68   \n",
       "...                  ...                 ...               ...        ...   \n",
       "2663                   0                   1                 0   34307.76   \n",
       "2623                   0                   1                 0  108118.55   \n",
       "1466                   0                   1                 0   99419.36   \n",
       "7993                   0                   1                 0   49709.68   \n",
       "9944                   0                   1                 0   24647.92   \n",
       "\n",
       "      price_usd  \n",
       "4338   25867.94  \n",
       "1344   62627.37  \n",
       "152    95302.93  \n",
       "9412   25867.94  \n",
       "2280   21510.96  \n",
       "...         ...  \n",
       "2663  190333.56  \n",
       "2623    4765.15  \n",
       "1466   15738.60  \n",
       "7993    5445.88  \n",
       "9944    6807.08  \n",
       "\n",
       "[90 rows x 43 columns]"
      ]
     },
     "execution_count": 59,
     "metadata": {},
     "output_type": "execute_result"
    }
   ],
   "source": [
    "z_scores = zscore(clean_df['year'])\n",
    "year_outliers = (z_scores > 3) | (z_scores < -3)\n",
    "clean_df[year_outliers].sort_values(by='year')"
   ]
  },
  {
   "cell_type": "code",
   "execution_count": 60,
   "id": "a4aacd11",
   "metadata": {},
   "outputs": [
    {
     "data": {
      "text/plain": [
       "(8811, 43)"
      ]
     },
     "execution_count": 60,
     "metadata": {},
     "output_type": "execute_result"
    }
   ],
   "source": [
    "clean_df = clean_df[~year_outliers]\n",
    "clean_df.shape"
   ]
  },
  {
   "cell_type": "markdown",
   "id": "04555ec8",
   "metadata": {},
   "source": [
    "After cleaning and normalizing, our dataset is 88.38% of its original size. That is a significant reduction, but we came in knowing a key feature, year, was missing 10% of its values. Only losing an additional 1.62% to cleaning and outliers is acceptable."
   ]
  },
  {
   "cell_type": "code",
   "execution_count": 61,
   "id": "4d666c73",
   "metadata": {},
   "outputs": [],
   "source": [
    "clean_normal_df = clean_df"
   ]
  },
  {
   "cell_type": "code",
   "execution_count": 62,
   "id": "bed31a86",
   "metadata": {},
   "outputs": [],
   "source": [
    "clean_normal_df.to_csv('clean_sales_8811.csv', index=False)"
   ]
  }
 ],
 "metadata": {
  "kernelspec": {
   "display_name": "Python 3 (ipykernel)",
   "language": "python",
   "name": "python3"
  },
  "language_info": {
   "codemirror_mode": {
    "name": "ipython",
    "version": 3
   },
   "file_extension": ".py",
   "mimetype": "text/x-python",
   "name": "python",
   "nbconvert_exporter": "python",
   "pygments_lexer": "ipython3",
   "version": "3.11.4"
  }
 },
 "nbformat": 4,
 "nbformat_minor": 5
}
